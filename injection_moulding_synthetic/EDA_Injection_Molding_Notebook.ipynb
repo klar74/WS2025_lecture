{
 "cells": [
  {
   "cell_type": "markdown",
   "id": "98c46bd2",
   "metadata": {},
   "source": [
    "# Explorative Datenanalyse (EDA): Injection Molding Dataset\n",
    "\n",
    "**Ziel:** Dieses Notebook führt **Schritt für Schritt** durch eine EDA eines Spritzguss-Datensatzes (synthetisch, realistisch).\n",
    "Wir untersuchen Datenqualität, Verteilungen, Korrelationen, zeitliche Muster (Drift) und kategoriale Effekte (Schicht, Materialcharge).\n",
    "Am Ende destillieren wir **Take‑Home‑Erkenntnisse**.\n",
    "\n",
    "*Erstellt am:* 2025-10-02 18:39\n"
   ]
  },
  {
   "cell_type": "code",
   "execution_count": null,
   "id": "af729944",
   "metadata": {},
   "outputs": [],
   "source": [
    "# Setup\n",
    "import pandas as pd\n",
    "import numpy as np\n",
    "import matplotlib.pyplot as plt\n",
    "\n",
    "# Render settings\n",
    "pd.set_option(\"display.max_columns\", 100)\n",
    "pd.set_option(\"display.width\", 120)\n",
    "\n",
    "# IMPORTANT: use matplotlib only; no seaborn, one chart per figure, no explicit colors\n"
   ]
  },
  {
   "cell_type": "markdown",
   "id": "43f5e278",
   "metadata": {},
   "source": [
    "## 1) Daten laden & Überblick"
   ]
  },
  {
   "cell_type": "code",
   "execution_count": null,
   "id": "35103307",
   "metadata": {},
   "outputs": [],
   "source": [
    "# Pfad anpassen, falls nötig\n",
    "path = \"../injection_moulding_synthetic/eda_injection_molding_synthetic.csv\"\n",
    "df = pd.read_csv(path, parse_dates=[\"timestamp\"])\n",
    "\n",
    "print(df.shape)\n",
    "df.head(10)"
   ]
  },
  {
   "cell_type": "markdown",
   "id": "2ce87338",
   "metadata": {},
   "source": [
    "### Datenwörterbuch (Auszug)\n",
    "- **timestamp**: Zeitstempel des Produktionszyklus\n",
    "- **machine_id**, **product_code**, **cavity_id**, **operator_id**, **shift**, **material_batch**\n",
    "- **ambient_temp_C**: Umgebungstemperatur (°C)\n",
    "- **melt_temp_C**: Schmelztemperatur (°C)\n",
    "- **injection_pressure_bar**, **hold_pressure_bar**\n",
    "- **cooling_time_s**, **cycle_time_s**\n",
    "- **material_moisture_pct**: Materialfeuchte (Anteil)\n",
    "- **screw_speed_rpm**\n",
    "- **vibration_rms_g**\n",
    "- **energy_kwh**\n",
    "- **dimensional_deviation_mm**: Maßabweichung (mm, Vorzeichen erlaubt)\n",
    "- **scrap**: 0/1 Ausschussindikator\n",
    "- **scrap_type**: Fehlerart (None, Burr, ShortShot, SinkMark, Warpage)\n",
    "- **defects_count**: Anzahl erkannter Defekte (bei scrap==1 > 0, sonst 0)\n"
   ]
  },
  {
   "cell_type": "markdown",
   "id": "bd7dab90",
   "metadata": {},
   "source": [
    "## 2) Datenqualität: Missing Values, Plausibilität, Ausreißer"
   ]
  },
  {
   "cell_type": "code",
   "execution_count": null,
   "id": "8877006c",
   "metadata": {},
   "outputs": [],
   "source": [
    "# Missing Values\n",
    "na_rate = df.isna().mean().sort_values(ascending=False)\n",
    "print(\"Fehlraten (Top 12):\")\n",
    "display(na_rate.head(12))\n",
    "\n",
    "# Grundlegende Statistik\n",
    "desc = df.describe().T\n",
    "display(desc)\n"
   ]
  },
  {
   "cell_type": "code",
   "execution_count": null,
   "id": "b813b13b",
   "metadata": {},
   "outputs": [],
   "source": [
    "# Ausreißer-Check (Beispiel: Zykluszeit)\n",
    "plt.figure()\n",
    "df[\"cycle_time_s\"].plot(kind=\"box\")\n",
    "plt.title(\"Boxplot: cycle_time_s\")\n",
    "plt.ylabel(\"seconds\")\n",
    "plt.show()\n"
   ]
  },
  {
   "cell_type": "markdown",
   "id": "2b642ed6",
   "metadata": {},
   "source": [
    "## 3) Univariate Verteilungen"
   ]
  },
  {
   "cell_type": "code",
   "execution_count": null,
   "id": "d401ae06",
   "metadata": {},
   "outputs": [],
   "source": [
    "numeric_cols = df.select_dtypes(include=[np.number]).columns.tolist()\n",
    "\n",
    "for col in [\"ambient_temp_C\",\"melt_temp_C\",\"injection_pressure_bar\",\"cooling_time_s\",\"cycle_time_s\",\"vibration_rms_g\"]:\n",
    "    plt.figure()\n",
    "    df[col].dropna().plot(kind=\"hist\", bins=30)\n",
    "    plt.title(f\"Histogram: {col}\")\n",
    "    plt.xlabel(col)\n",
    "    plt.ylabel(\"count\")\n",
    "    plt.show()\n"
   ]
  },
  {
   "cell_type": "markdown",
   "id": "0109ea1e",
   "metadata": {},
   "source": [
    "## 4) Kategoriale Effekte auf Ausschuss"
   ]
  },
  {
   "cell_type": "code",
   "execution_count": null,
   "id": "310d8dc0",
   "metadata": {},
   "outputs": [],
   "source": [
    "def rate_by(col, top=10):\n",
    "    rates = df.groupby(col)[\"scrap\"].mean().sort_values(ascending=False)\n",
    "    print(f\"Scrap Rate by {col} (Top {top}):\")\n",
    "    display((rates*100).round(2).head(top))\n",
    "\n",
    "for col in [\"machine_id\",\"shift\",\"material_batch\",\"product_code\",\"cavity_id\",\"operator_id\"]:\n",
    "    rate_by(col, top=10)\n"
   ]
  },
  {
   "cell_type": "markdown",
   "id": "40c1b924",
   "metadata": {},
   "source": [
    "## 5) Zeitliche Muster: Rollierende Ausschussrate & Drift"
   ]
  },
  {
   "cell_type": "code",
   "execution_count": null,
   "id": "9e4b6c88",
   "metadata": {},
   "outputs": [],
   "source": [
    "# Rollierende Ausschussrate (Fenster über 12 Stunden)\n",
    "ts = (df.sort_values(\"timestamp\")\n",
    "        .set_index(\"timestamp\")[\"scrap\"]\n",
    "        .rolling(\"12H\").mean())\n",
    "\n",
    "plt.figure()\n",
    "ts.plot()\n",
    "plt.title(\"Rolling scrap rate (12H window)\")\n",
    "plt.xlabel(\"time\")\n",
    "plt.ylabel(\"scrap rate\")\n",
    "plt.show()\n",
    "\n",
    "# Drift-Beispiele: cycle_time_s, vibration_rms_g, dimensional_deviation_mm (roll. Mittel)\n",
    "df_sorted = df.sort_values(\"timestamp\").set_index(\"timestamp\")\n",
    "for col in [\"cycle_time_s\",\"vibration_rms_g\",\"dimensional_deviation_mm\"]:\n",
    "    plt.figure()\n",
    "    df_sorted[col].rolling(\"12H\").mean().plot()\n",
    "    plt.title(f\"Rolling mean (12H): {col}\")\n",
    "    plt.xlabel(\"time\")\n",
    "    plt.ylabel(col)\n",
    "    plt.show()\n"
   ]
  },
  {
   "cell_type": "markdown",
   "id": "8cadd3cb",
   "metadata": {},
   "source": [
    "## 6) Korrelationen (numerisch)"
   ]
  },
  {
   "cell_type": "code",
   "execution_count": null,
   "id": "7c289fcb",
   "metadata": {},
   "outputs": [],
   "source": [
    "num = df.select_dtypes(include=[np.number])\n",
    "corr = num.corr()\n",
    "\n",
    "plt.figure()\n",
    "plt.imshow(corr, interpolation=\"nearest\")\n",
    "plt.title(\"Correlation heatmap (numeric features)\")\n",
    "plt.xticks(range(corr.shape[1]), corr.columns, rotation=90)\n",
    "plt.yticks(range(corr.shape[1]), corr.columns)\n",
    "plt.colorbar()\n",
    "plt.tight_layout()\n",
    "plt.show()\n",
    "\n",
    "# Top-Korrelationen mit 'scrap' (absolut sortiert)\n",
    "scrap_corr = corr[\"scrap\"].drop(\"scrap\").abs().sort_values(ascending=False)\n",
    "print(\"Top correlations with 'scrap':\")\n",
    "display(scrap_corr.head(10))\n"
   ]
  },
  {
   "cell_type": "markdown",
   "id": "7809c5a9",
   "metadata": {},
   "source": [
    "## 7) Umweltbedingungen: Temperaturfenster"
   ]
  },
  {
   "cell_type": "code",
   "execution_count": null,
   "id": "8436aeec",
   "metadata": {},
   "outputs": [],
   "source": [
    "bins = [0,18,22,26,100]\n",
    "labels = [\"<18\",\"18-22\",\"22-26\",\">26\"]\n",
    "tmp = df.assign(ambient_bin=pd.cut(df[\"ambient_temp_C\"], bins=bins, labels=labels, include_lowest=True))\n",
    "\n",
    "scrap_by_bin = tmp.groupby(\"ambient_bin\")[\"scrap\"].mean()\n",
    "print(\"Scrap Rate by ambient temperature bins (%):\")\n",
    "display((scrap_by_bin*100).round(2))\n",
    "\n",
    "plt.figure()\n",
    "(scrap_by_bin*100).plot(kind=\"bar\")\n",
    "plt.title(\"Scrap rate by ambient temperature bin (%)\")\n",
    "plt.xlabel(\"ambient_temp_C bin\")\n",
    "plt.ylabel(\"scrap rate (%)\")\n",
    "plt.show()\n"
   ]
  },
  {
   "cell_type": "markdown",
   "id": "9a3690ce",
   "metadata": {},
   "source": [
    "## 8) Multivariate Quick-Check"
   ]
  },
  {
   "cell_type": "code",
   "execution_count": null,
   "id": "12810c71",
   "metadata": {},
   "outputs": [],
   "source": [
    "plt.figure()\n",
    "plt.scatter(df[\"melt_temp_C\"], df[\"injection_pressure_bar\"], s=8, c=df[\"scrap\"])\n",
    "plt.title(\"Melt temp vs. Injection pressure (colored by scrap)\")\n",
    "plt.xlabel(\"melt_temp_C\")\n",
    "plt.ylabel(\"injection_pressure_bar\")\n",
    "plt.show()\n"
   ]
  },
  {
   "cell_type": "markdown",
   "id": "d9ae2965",
   "metadata": {},
   "source": [
    "## 9) Batch-Effekt: Gibt es eine problematische Materialcharge?"
   ]
  },
  {
   "cell_type": "code",
   "execution_count": null,
   "id": "6d50aebd",
   "metadata": {},
   "outputs": [],
   "source": [
    "batch_rates = df.groupby(\"material_batch\")[\"scrap\"].mean().sort_values(ascending=False)\n",
    "display((batch_rates*100).round(2))\n",
    "\n",
    "# Visualisieren (Top 8 Batches)\n",
    "plt.figure()\n",
    "(batch_rates.head(8)*100).plot(kind=\"bar\")\n",
    "plt.title(\"Top material batches by scrap rate (%)\")\n",
    "plt.ylabel(\"scrap rate (%)\")\n",
    "plt.xlabel(\"material_batch\")\n",
    "plt.show()\n"
   ]
  },
  {
   "cell_type": "markdown",
   "id": "4cc6296c",
   "metadata": {},
   "source": [
    "## 10) Schicht‑Effekte"
   ]
  },
  {
   "cell_type": "code",
   "execution_count": null,
   "id": "03235b05",
   "metadata": {},
   "outputs": [],
   "source": [
    "shift_rates = df.groupby(\"shift\")[\"scrap\"].mean().sort_values(ascending=False)\n",
    "display((shift_rates*100).round(2))\n",
    "\n",
    "plt.figure()\n",
    "(shift_rates*100).plot(kind=\"bar\")\n",
    "plt.title(\"Scrap rate by shift (%)\")\n",
    "plt.ylabel(\"scrap rate (%)\")\n",
    "plt.xlabel(\"shift\")\n",
    "plt.show()\n"
   ]
  },
  {
   "cell_type": "markdown",
   "id": "b3636dbc",
   "metadata": {},
   "source": [
    "## 11) Zykluszeit ↔ Energie ↔ Qualität (Trade‑offs)"
   ]
  },
  {
   "cell_type": "code",
   "execution_count": null,
   "id": "1f556456",
   "metadata": {},
   "outputs": [],
   "source": [
    "print(df[[\"cycle_time_s\",\"energy_kwh\",\"scrap\"]].corr())\n",
    "\n",
    "plt.figure()\n",
    "plt.scatter(df[\"cycle_time_s\"], df[\"energy_kwh\"], s=8)\n",
    "plt.title(\"Cycle time vs Energy\")\n",
    "plt.xlabel(\"cycle_time_s\")\n",
    "plt.ylabel(\"energy_kwh\")\n",
    "plt.show()\n"
   ]
  },
  {
   "cell_type": "markdown",
   "id": "dbcc73b0",
   "metadata": {},
   "source": [
    "## 12) Take‑Home‑Erkenntnisse (automatisch zusammengefasst)"
   ]
  },
  {
   "cell_type": "code",
   "execution_count": null,
   "id": "6a3b1dc3",
   "metadata": {},
   "outputs": [],
   "source": [
    "summary_lines = []\n",
    "\n",
    "overall = df[\"scrap\"].mean()*100\n",
    "summary_lines.append(f\"- **Gesamte Ausschussrate:** {overall:.2f}%\")\n",
    "\n",
    "# Problem batch\n",
    "batch_rates_pct = (df.groupby(\"material_batch\")[\"scrap\"].mean()*100).sort_values(ascending=False)\n",
    "top_batch, top_rate = batch_rates_pct.index[0], batch_rates_pct.iloc[0]\n",
    "median_rate = batch_rates_pct.median()\n",
    "if top_rate > median_rate + 2.0:\n",
    "    summary_lines.append(f\"- **Auffällige Materialcharge:** {top_batch} mit {top_rate:.1f}% (Median {median_rate:.1f}%) → Batch prüfen/sperren.\")\n",
    "\n",
    "# Shift effect\n",
    "shift_rates_pct = (df.groupby(\"shift\")[\"scrap\"].mean()*100).sort_values(ascending=False)\n",
    "worst_shift, worst_rate = shift_rates_pct.index[0], shift_rates_pct.iloc[0]\n",
    "best_shift, best_rate = shift_rates_pct.index[-1], shift_rates_pct.iloc[-1]\n",
    "if worst_rate > best_rate + 1.0:\n",
    "    diff = worst_rate - best_rate\n",
    "    summary_lines.append(f\"- **Schichteffekt:** {worst_shift} schlechter als {best_shift} (+{diff:.1f} %-Pkt.) → Schulung/Checklisten/Support prüfen.\")\n",
    "\n",
    "# Ambient bin effect\n",
    "bins = [0,18,22,26,100]\n",
    "labels = [\"<18\",\"18-22\",\"22-26\",\">26\"]\n",
    "tmp = df.assign(ambient_bin=pd.cut(df[\"ambient_temp_C\"], bins=bins, labels=labels, include_lowest=True))\n",
    "bin_rates = (tmp.groupby(\"ambient_bin\")[\"scrap\"].mean()*100)\n",
    "if (bin_rates.max() - bin_rates.min()) > 1.0:\n",
    "    hot = bin_rates.idxmax()\n",
    "    cold = bin_rates.idxmin()\n",
    "    summary_lines.append(f\"- **Temperaturfenster:** Unterschiede zwischen Bins (max bei **{hot}**, min bei **{cold}**) → Klima/Ofen enger führen.\")\n",
    "\n",
    "# Drift indicators: compare first vs last 20% rolling mean\n",
    "def drift_flag(series, label):\n",
    "    s = series.sort_index()\n",
    "    n = len(s)\n",
    "    early = s.iloc[:max(5, n//5)].mean()\n",
    "    late = s.iloc[-max(5, n//5):].mean()\n",
    "    if late > early * 1.05:  # +5% Anstieg\n",
    "        summary_lines.append(f\"- **Drift:** {label} stieg von {early:.3f} auf {late:.3f} → Werkzeug/Verschleiß prüfen.\")\n",
    "\n",
    "df_sorted = df.sort_values(\"timestamp\").set_index(\"timestamp\")\n",
    "for col in [\"cycle_time_s\",\"vibration_rms_g\",\"dimensional_deviation_mm\"]:\n",
    "    drift_flag(df_sorted[col].rolling(\"12H\").mean().dropna(), col)\n",
    "\n",
    "print(\"\\n\".join(summary_lines))\n"
   ]
  },
  {
   "cell_type": "markdown",
   "id": "5667d81d",
   "metadata": {},
   "source": [
    "### Interpretation & nächste Schritte\n",
    "- **EDA ist keine Modellierung** – sie erzeugt **Hypothesen** und **Prio‑Hinweise**.\n",
    "- Nachverfolgen: **Materialcharge prüfen**, **Night‑Shift‑Abläufe** beleuchten, **Werkzeugzustand** inspizieren.\n",
    "- Für die Validierung: A/B‑Änderung (z. B. andere Charge, Checklisten in der Nachtschicht), **Kontrollcharts**, **weiterführende Modelle** (Logit/Tree) – **aber erst nach sauberer EDA**.\n"
   ]
  }
 ],
 "metadata": {
  "kernelspec": {
   "display_name": "lecture_env",
   "language": "python",
   "name": "python3"
  },
  "language_info": {
   "codemirror_mode": {
    "name": "ipython",
    "version": 3
   },
   "file_extension": ".py",
   "mimetype": "text/x-python",
   "name": "python",
   "nbconvert_exporter": "python",
   "pygments_lexer": "ipython3",
   "version": "3.11.13"
  }
 },
 "nbformat": 4,
 "nbformat_minor": 5
}

{
 "cells": [
  {
   "cell_type": "markdown",
   "id": "7ba81e0d",
   "metadata": {},
   "source": [
    "# S.Oliver: Einfache Kundenanalyse\n",
    "\n",
    "[![Open In Colab](https://colab.research.google.com/assets/colab-badge.svg)](https://colab.research.google.com/github/klar74/WS2025_lecture/blob/main/Vorlesung_10/s_oliver_simple.ipynb)\n",
    "\n",
    "**Lernziel:** Grundlagen der Datenanalyse - Mittelwerte, Gruppierung und einfache Visualisierung\n",
    "\n",
    "**Vereinfachtes Szenario:** Analyse von Kundenalter und Ausgaben in verschiedenen Produktkategorien\n",
    "\n",
    "** Lehrbeispiel! Die Daten sind künstlich erzeugt und ohne echte Zusammenhänge!"
   ]
  },
  {
   "cell_type": "code",
   "execution_count": 5,
   "id": "922a631c",
   "metadata": {},
   "outputs": [
    {
     "name": "stdout",
     "output_type": "stream",
     "text": [
      "Anzahl Kunden: 190\n",
      "\n",
      "Erste 5 Zeilen:\n"
     ]
    },
    {
     "data": {
      "text/html": [
       "<div>\n",
       "<style scoped>\n",
       "    .dataframe tbody tr th:only-of-type {\n",
       "        vertical-align: middle;\n",
       "    }\n",
       "\n",
       "    .dataframe tbody tr th {\n",
       "        vertical-align: top;\n",
       "    }\n",
       "\n",
       "    .dataframe thead th {\n",
       "        text-align: right;\n",
       "    }\n",
       "</style>\n",
       "<table border=\"1\" class=\"dataframe\">\n",
       "  <thead>\n",
       "    <tr style=\"text-align: right;\">\n",
       "      <th></th>\n",
       "      <th>alter</th>\n",
       "      <th>kategorie</th>\n",
       "      <th>ausgaben_euro</th>\n",
       "    </tr>\n",
       "  </thead>\n",
       "  <tbody>\n",
       "    <tr>\n",
       "      <th>0</th>\n",
       "      <td>40</td>\n",
       "      <td>Herren</td>\n",
       "      <td>98.99</td>\n",
       "    </tr>\n",
       "    <tr>\n",
       "      <th>1</th>\n",
       "      <td>33</td>\n",
       "      <td>Herren</td>\n",
       "      <td>12.38</td>\n",
       "    </tr>\n",
       "    <tr>\n",
       "      <th>2</th>\n",
       "      <td>42</td>\n",
       "      <td>Damen</td>\n",
       "      <td>6.30</td>\n",
       "    </tr>\n",
       "    <tr>\n",
       "      <th>3</th>\n",
       "      <td>53</td>\n",
       "      <td>Damen</td>\n",
       "      <td>77.70</td>\n",
       "    </tr>\n",
       "    <tr>\n",
       "      <th>4</th>\n",
       "      <td>32</td>\n",
       "      <td>Damen</td>\n",
       "      <td>62.31</td>\n",
       "    </tr>\n",
       "  </tbody>\n",
       "</table>\n",
       "</div>"
      ],
      "text/plain": [
       "   alter kategorie  ausgaben_euro\n",
       "0     40    Herren          98.99\n",
       "1     33    Herren          12.38\n",
       "2     42     Damen           6.30\n",
       "3     53     Damen          77.70\n",
       "4     32     Damen          62.31"
      ]
     },
     "execution_count": 5,
     "metadata": {},
     "output_type": "execute_result"
    }
   ],
   "source": [
    "import pandas as pd\n",
    "import matplotlib.pyplot as plt\n",
    "import numpy as np\n",
    "\n",
    "# Einfache Simulationsdaten erstellen\n",
    "np.random.seed(42)\n",
    "n_customers = 200\n",
    "\n",
    "data = {\n",
    "    'alter': np.random.normal(35, 12, n_customers).astype(int),\n",
    "    'kategorie': np.random.choice(['Damen', 'Herren', 'Kids'], n_customers),\n",
    "    'ausgaben_euro': np.random.normal(80, 30, n_customers)\n",
    "}\n",
    "\n",
    "df = pd.DataFrame(data)\n",
    "df = df[df['alter'] > 16]  # Nur erwachsene Kunden\n",
    "df['ausgaben_euro'] = df['ausgaben_euro'].round(2)\n",
    "\n",
    "print(f\"Anzahl Kunden: {len(df)}\")\n",
    "print(\"\\nErste 5 Zeilen:\")\n",
    "df.head()"
   ]
  },
  {
   "cell_type": "code",
   "execution_count": null,
   "id": "66fdbf41",
   "metadata": {},
   "outputs": [],
   "source": [
    "# Einfache Deskriptive Statistiken\n",
    "print(\"=== KUNDENANALYTIK S.OLIVER ===\")\n",
    "print(f\"Durchschnittsalter: {df['alter'].mean():.1f} Jahre\")\n",
    "print(f\"Durchschnittliche Ausgaben: {df['ausgaben_euro'].mean():.2f} €\")\n",
    "\n",
    "print(\"\\n=== AUSGABEN NACH KATEGORIE ===\")\n",
    "kategorie_stats = df.groupby('kategorie')['ausgaben_euro'].agg(['mean', 'count'])\n",
    "print(kategorie_stats.round(2))"
   ]
  },
  {
   "cell_type": "code",
   "execution_count": null,
   "id": "9291b577",
   "metadata": {},
   "outputs": [],
   "source": [
    "# Einfache Visualisierung\n",
    "fig, (ax1, ax2) = plt.subplots(1, 2, figsize=(12, 5))\n",
    "\n",
    "# Balkendiagramm: Durchschnittliche Ausgaben pro Kategorie\n",
    "kategorie_mean = df.groupby('kategorie')['ausgaben_euro'].mean()\n",
    "ax1.bar(kategorie_mean.index, kategorie_mean.values, color=['skyblue', 'lightcoral', 'lightgreen'])\n",
    "ax1.set_title('Durchschnittliche Ausgaben pro Kategorie')\n",
    "ax1.set_ylabel('Ausgaben (€)')\n",
    "\n",
    "# Streudiagramm: Alter vs. Ausgaben\n",
    "ax2.scatter(df['alter'], df['ausgaben_euro'], alpha=0.6, color='darkblue')\n",
    "ax2.set_title('Alter vs. Ausgaben')\n",
    "ax2.set_xlabel('Alter (Jahre)')\n",
    "ax2.set_ylabel('Ausgaben (€)')\n",
    "\n",
    "plt.tight_layout()\n",
    "plt.show()"
   ]
  },
  {
   "cell_type": "markdown",
   "id": "9e51005b",
   "metadata": {},
   "source": [
    "## Zusammenfassung\n",
    "\n",
    "**Was haben wir gelernt?**\n",
    "- Daten laden und erste Übersicht verschaffen\n",
    "- Mittelwerte und Gruppierungen berechnen  \n",
    "- Einfache Visualisierungen erstellen\n"
   ]
  }
 ],
 "metadata": {
  "kernelspec": {
   "display_name": "lecture_env",
   "language": "python",
   "name": "python3"
  },
  "language_info": {
   "codemirror_mode": {
    "name": "ipython",
    "version": 3
   },
   "file_extension": ".py",
   "mimetype": "text/x-python",
   "name": "python",
   "nbconvert_exporter": "python",
   "pygments_lexer": "ipython3",
   "version": "3.11.13"
  }
 },
 "nbformat": 4,
 "nbformat_minor": 5
}

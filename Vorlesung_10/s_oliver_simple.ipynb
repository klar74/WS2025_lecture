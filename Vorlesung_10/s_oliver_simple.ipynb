{
 "cells": [
  {
   "cell_type": "markdown",
   "id": "7ba81e0d",
   "metadata": {},
   "source": [
    "# S.Oliver: Einfache Kundenanalyse\n",
    "\n",
    "[![Open In Colab](https://colab.research.google.com/assets/colab-badge.svg)](https://colab.research.google.com/github/klar74/WS2025_lecture/blob/main/Vorlesung_10/s_oliver_simple.ipynb)\n",
    "\n",
    "**Lernziel:** Grundlagen der Datenanalyse - Mittelwerte, Gruppierung und einfache Visualisierung\n",
    "\n",
    "**Vereinfachtes Szenario:** Analyse von Kundenalter und Ausgaben in verschiedenen Produktkategorien"
   ]
  },
  {
   "cell_type": "code",
   "execution_count": null,
   "id": "922a631c",
   "metadata": {},
   "outputs": [],
   "source": [
    "import pandas as pd\n",
    "import matplotlib.pyplot as plt\n",
    "import numpy as np\n",
    "\n",
    "# Einfache Simulationsdaten erstellen\n",
    "np.random.seed(42)\n",
    "n_customers = 200\n",
    "\n",
    "data = {\n",
    "    'alter': np.random.normal(35, 12, n_customers).astype(int),\n",
    "    'kategorie': np.random.choice(['Damen', 'Herren', 'Kids'], n_customers),\n",
    "    'ausgaben_euro': np.random.normal(80, 30, n_customers)\n",
    "}\n",
    "\n",
    "df = pd.DataFrame(data)\n",
    "df = df[df['alter'] > 16]  # Nur erwachsene Kunden\n",
    "df['ausgaben_euro'] = df['ausgaben_euro'].round(2)\n",
    "\n",
    "print(f\"Anzahl Kunden: {len(df)}\")\n",
    "print(\"\\nErste 5 Zeilen:\")\n",
    "df.head()"
   ]
  },
  {
   "cell_type": "code",
   "execution_count": null,
   "id": "66fdbf41",
   "metadata": {},
   "outputs": [],
   "source": [
    "# Einfache Deskriptive Statistiken\n",
    "print(\"=== KUNDENANALYTIK S.OLIVER ===\")\n",
    "print(f\"Durchschnittsalter: {df['alter'].mean():.1f} Jahre\")\n",
    "print(f\"Durchschnittliche Ausgaben: {df['ausgaben_euro'].mean():.2f} €\")\n",
    "\n",
    "print(\"\\n=== AUSGABEN NACH KATEGORIE ===\")\n",
    "kategorie_stats = df.groupby('kategorie')['ausgaben_euro'].agg(['mean', 'count'])\n",
    "print(kategorie_stats.round(2))"
   ]
  },
  {
   "cell_type": "code",
   "execution_count": null,
   "id": "9291b577",
   "metadata": {},
   "outputs": [],
   "source": [
    "# Einfache Visualisierung\n",
    "fig, (ax1, ax2) = plt.subplots(1, 2, figsize=(12, 5))\n",
    "\n",
    "# Balkendiagramm: Durchschnittliche Ausgaben pro Kategorie\n",
    "kategorie_mean = df.groupby('kategorie')['ausgaben_euro'].mean()\n",
    "ax1.bar(kategorie_mean.index, kategorie_mean.values, color=['skyblue', 'lightcoral', 'lightgreen'])\n",
    "ax1.set_title('Durchschnittliche Ausgaben pro Kategorie')\n",
    "ax1.set_ylabel('Ausgaben (€)')\n",
    "\n",
    "# Streudiagramm: Alter vs. Ausgaben\n",
    "ax2.scatter(df['alter'], df['ausgaben_euro'], alpha=0.6, color='darkblue')\n",
    "ax2.set_title('Alter vs. Ausgaben')\n",
    "ax2.set_xlabel('Alter (Jahre)')\n",
    "ax2.set_ylabel('Ausgaben (€)')\n",
    "\n",
    "plt.tight_layout()\n",
    "plt.show()"
   ]
  },
  {
   "cell_type": "code",
   "execution_count": null,
   "id": "4ca491fc",
   "metadata": {},
   "outputs": [],
   "source": [
    "# Einfache Geschäftsempfehlung\n",
    "print(\"=== EINFACHE BUSINESS INSIGHTS ===\")\n",
    "\n",
    "# Welche Kategorie bringt am meisten Umsatz?\n",
    "beste_kategorie = kategorie_mean.idxmax()\n",
    "print(f\"📈 Höchste Ausgaben in Kategorie: {beste_kategorie} ({kategorie_mean[beste_kategorie]:.2f} €)\")\n",
    "\n",
    "# Altersgruppen-Analyse\n",
    "df['altersgruppe'] = pd.cut(df['alter'], bins=[0, 25, 35, 50, 100], labels=['Jung', 'Mittel', 'Reif', 'Senior'])\n",
    "altersgruppen_ausgaben = df.groupby('altersgruppe', observed=True)['ausgaben_euro'].mean()\n",
    "beste_altersgruppe = altersgruppen_ausgaben.idxmax()\n",
    "\n",
    "print(f\"💰 Beste Altersgruppe: {beste_altersgruppe} ({altersgruppen_ausgaben[beste_altersgruppe]:.2f} € im Schnitt)\")\n",
    "print(f\"\\n➡️  Empfehlung: Fokus auf {beste_kategorie}-Kollektion für {beste_altersgruppe} Zielgruppe\")"
   ]
  },
  {
   "cell_type": "markdown",
   "id": "9e51005b",
   "metadata": {},
   "source": [
    "## Zusammenfassung\n",
    "\n",
    "**Was haben wir gelernt?**\n",
    "- Daten laden und erste Übersicht verschaffen\n",
    "- Mittelwerte und Gruppierungen berechnen  \n",
    "- Einfache Visualisierungen erstellen\n",
    "- Geschäftsrelevante Erkenntnisse ableiten\n",
    "\n",
    "**Nächste Schritte:** Komplexere Analysen mit Korrelationen, Zeitreihen oder Machine Learning Modellen"
   ]
  }
 ],
 "metadata": {
  "kernelspec": {
   "display_name": "lecture_env",
   "language": "python",
   "name": "python3"
  },
  "language_info": {
   "codemirror_mode": {
    "name": "ipython",
    "version": 3
   },
   "file_extension": ".py",
   "mimetype": "text/x-python",
   "name": "python",
   "nbconvert_exporter": "python",
   "pygments_lexer": "ipython3",
   "version": "3.11.13"
  }
 },
 "nbformat": 4,
 "nbformat_minor": 5
}

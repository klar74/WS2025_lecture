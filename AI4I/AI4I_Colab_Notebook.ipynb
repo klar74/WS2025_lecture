{
 "cells": [
  {
   "cell_type": "markdown",
   "id": "600edb40",
   "metadata": {},
   "source": [
    "# AI4I 2020 – EDA & Modelle in Colab\n",
    "\n",
    "Dieses Notebook zeigt eine kompakte Pipeline für einen industrienahen Datensatz (Predictive Maintenance).\n",
    "\n",
    "**Inhalte:** deskriptive Statistik, EDA, Logistic Regression, Random Forest, k-means, kleines MLP.\n",
    "\n",
    "**Quelle (UCI):** `ai4i2020.csv` (CC BY 4.0)\n",
    "\n",
    "Direkt-URL: `https://archive.ics.uci.edu/ml/machine-learning-databases/00601/ai4i2020.csv`\n"
   ]
  },
  {
   "cell_type": "code",
   "execution_count": null,
   "id": "9e294324",
   "metadata": {},
   "outputs": [],
   "source": [
    "# %%capture\n",
    "# Optional: Hilfspakete installieren (in Colab meist nicht nötig)\n",
    "# !pip install -q ucimlrepo\n"
   ]
  },
  {
   "cell_type": "code",
   "execution_count": null,
   "id": "eab675dd",
   "metadata": {},
   "outputs": [],
   "source": [
    "import pandas as pd\n",
    "import numpy as np\n",
    "import matplotlib.pyplot as plt\n",
    "from sklearn.model_selection import train_test_split\n",
    "from sklearn.preprocessing import StandardScaler\n",
    "from sklearn.linear_model import LogisticRegression\n",
    "from sklearn.ensemble import RandomForestClassifier\n",
    "from sklearn.neural_network import MLPClassifier\n",
    "from sklearn.cluster import KMeans\n",
    "from sklearn.metrics import (classification_report, confusion_matrix, roc_auc_score,\n",
    "                             RocCurveDisplay, PrecisionRecallDisplay)\n",
    "import time\n",
    "import os\n"
   ]
  },
  {
   "cell_type": "markdown",
   "id": "27f02bfd",
   "metadata": {},
   "source": [
    "## Daten laden"
   ]
  },
  {
   "cell_type": "code",
   "execution_count": null,
   "id": "6a49da0a",
   "metadata": {},
   "outputs": [],
   "source": [
    "url = \"https://archive.ics.uci.edu/ml/machine-learning-databases/00601/ai4i2020.csv\"\n",
    "df = pd.read_csv(url)\n",
    "df.head()"
   ]
  },
  {
   "cell_type": "code",
   "execution_count": null,
   "id": "6fdb4919",
   "metadata": {},
   "outputs": [],
   "source": [
    "df.shape, df.dtypes"
   ]
  },
  {
   "cell_type": "markdown",
   "id": "7f30ed82",
   "metadata": {},
   "source": [
    "## Spaltennamen harmonisieren"
   ]
  },
  {
   "cell_type": "code",
   "execution_count": null,
   "id": "8e715bce",
   "metadata": {},
   "outputs": [],
   "source": [
    "df.columns = (df.columns\n",
    "              .str.strip()\n",
    "              .str.replace(r\"\\s+\", \"_\", regex=True)\n",
    "              .str.replace(r\"[\\[\\]\\(\\)]\", \"\", regex=True)\n",
    "              .str.replace(\"%\", \"pct\")\n",
    "              .str.lower())\n",
    "df.head()"
   ]
  },
  {
   "cell_type": "markdown",
   "id": "689400b0",
   "metadata": {},
   "source": [
    "## Deskriptive Statistik & EDA"
   ]
  },
  {
   "cell_type": "code",
   "execution_count": null,
   "id": "bbbf008e",
   "metadata": {},
   "outputs": [],
   "source": [
    "df.describe(include='all')"
   ]
  },
  {
   "cell_type": "code",
   "execution_count": null,
   "id": "121c49bb",
   "metadata": {},
   "outputs": [],
   "source": [
    "numeric_cols = df.select_dtypes(include=[np.number]).columns.tolist()\n",
    "for col in numeric_cols:\n",
    "    plt.figure()\n",
    "    df[col].hist(bins=30)\n",
    "    plt.title(f'Histogramm: {col}')\n",
    "    plt.xlabel(col)\n",
    "    plt.ylabel('Häufigkeit')\n",
    "    plt.show()"
   ]
  },
  {
   "cell_type": "markdown",
   "id": "1bd0e796",
   "metadata": {},
   "source": [
    "## Zielvariable & Features"
   ]
  },
  {
   "cell_type": "code",
   "execution_count": null,
   "id": "35f70cce",
   "metadata": {},
   "outputs": [],
   "source": [
    "target_col = 'machine_failure'\n",
    "y = df[target_col].astype(int)\n",
    "X = df.drop(columns=[target_col])\n",
    "X = pd.get_dummies(X, drop_first=True)\n",
    "X.head(), y.value_counts(normalize=True)"
   ]
  },
  {
   "cell_type": "markdown",
   "id": "3a1cdf4d",
   "metadata": {},
   "source": [
    "## Split & Skalierung"
   ]
  },
  {
   "cell_type": "code",
   "execution_count": null,
   "id": "31df447e",
   "metadata": {},
   "outputs": [],
   "source": [
    "X_trainval, X_test, y_trainval, y_test = train_test_split(\n",
    "    X, y, test_size=0.2, stratify=y, random_state=42\n",
    ")\n",
    "X_train, X_val, y_train, y_val = train_test_split(\n",
    "    X_trainval, y_trainval, test_size=0.25, stratify=y_trainval, random_state=42\n",
    ")\n",
    "scaler = StandardScaler(with_mean=False)\n",
    "X_train_s = scaler.fit_transform(X_train)\n",
    "X_val_s   = scaler.transform(X_val)\n",
    "X_test_s  = scaler.transform(X_test)\n",
    "X_train.shape, X_val.shape, X_test.shape"
   ]
  },
  {
   "cell_type": "markdown",
   "id": "2fb1caeb",
   "metadata": {},
   "source": [
    "## Logistische Regression"
   ]
  },
  {
   "cell_type": "code",
   "execution_count": null,
   "id": "bc7e5ceb",
   "metadata": {},
   "outputs": [],
   "source": [
    "t0 = time.time()\n",
    "lr = LogisticRegression(max_iter=200)\n",
    "lr.fit(X_train_s, y_train)\n",
    "t1 = time.time()\n",
    "val_pred = lr.predict(X_val_s)\n",
    "val_proba = lr.predict_proba(X_val_s)[:, 1]\n",
    "print(classification_report(y_val, val_pred, digits=3))\n",
    "print('Val ROC-AUC (LR):', roc_auc_score(y_val, val_proba))\n",
    "print(f'Trainzeit: {t1 - t0:.2f}s')"
   ]
  },
  {
   "cell_type": "markdown",
   "id": "cd141fac",
   "metadata": {},
   "source": [
    "## Random Forest"
   ]
  },
  {
   "cell_type": "code",
   "execution_count": null,
   "id": "f2494dd2",
   "metadata": {},
   "outputs": [],
   "source": [
    "rf = RandomForestClassifier(n_estimators=300, random_state=42, n_jobs=-1)\n",
    "rf.fit(X_train, y_train)\n",
    "val_pred = rf.predict(X_val)\n",
    "val_proba = rf.predict_proba(X_val)[:, 1]\n",
    "print(classification_report(y_val, val_pred, digits=3))\n",
    "print('Val ROC-AUC (RF):', roc_auc_score(y_val, val_proba))\n",
    "importances = pd.Series(rf.feature_importances_, index=X_train.columns).sort_values(ascending=False)[:15]\n",
    "importances.plot(kind='bar')\n",
    "plt.title('Top-15 Feature Importances (RF)')\n",
    "plt.tight_layout()\n",
    "plt.show()"
   ]
  },
  {
   "cell_type": "markdown",
   "id": "1808219f",
   "metadata": {},
   "source": [
    "## k-means"
   ]
  },
  {
   "cell_type": "code",
   "execution_count": null,
   "id": "d130eb4a",
   "metadata": {},
   "outputs": [],
   "source": [
    "k = 4\n",
    "km = KMeans(n_clusters=k, n_init=10, random_state=42)\n",
    "km.fit(X_train_s)\n",
    "val_clusters = km.predict(X_val_s)\n",
    "cluster_df = pd.DataFrame({'cluster': val_clusters, 'y': y_val.values})\n",
    "cluster_df.groupby('cluster')['y'].agg(['count','mean']).rename(columns={'mean':'failure_rate'})"
   ]
  },
  {
   "cell_type": "markdown",
   "id": "fccab961",
   "metadata": {},
   "source": [
    "## Kleines MLP"
   ]
  },
  {
   "cell_type": "code",
   "execution_count": null,
   "id": "97298381",
   "metadata": {},
   "outputs": [],
   "source": [
    "mlp = MLPClassifier(hidden_layer_sizes=(32, 32), activation='relu', max_iter=50, random_state=42)\n",
    "mlp.fit(X_train_s, y_train)\n",
    "val_pred = mlp.predict(X_val_s)\n",
    "val_proba = mlp.predict_proba(X_val_s)[:, 1]\n",
    "print(classification_report(y_val, val_pred, digits=3))\n",
    "print('Val ROC-AUC (MLP):', roc_auc_score(y_val, val_proba))"
   ]
  },
  {
   "cell_type": "markdown",
   "id": "e5349743",
   "metadata": {},
   "source": [
    "## Finale Auswertung auf Test"
   ]
  },
  {
   "cell_type": "code",
   "execution_count": null,
   "id": "1d5870d6",
   "metadata": {},
   "outputs": [],
   "source": [
    "best_model = rf\n",
    "test_proba = best_model.predict_proba(X_test)[:, 1]\n",
    "test_pred = (test_proba >= 0.5).astype(int)\n",
    "print(classification_report(y_test, test_pred, digits=3))\n",
    "print('Test ROC-AUC:', roc_auc_score(y_test, test_proba))\n",
    "RocCurveDisplay.from_predictions(y_test, test_proba)\n",
    "plt.title('ROC – Test')\n",
    "plt.show()\n",
    "PrecisionRecallDisplay.from_predictions(y_test, test_proba)\n",
    "plt.title('Precision-Recall – Test')\n",
    "plt.show()\n"
   ]
  },
  {
   "cell_type": "markdown",
   "id": "b8fe9356",
   "metadata": {},
   "source": [
    "_Automatisch generiert • Stand: 2025-09-26 17:57 UTC_"
   ]
  }
 ],
 "metadata": {
  "kernelspec": {
   "display_name": "lecture_env",
   "language": "python",
   "name": "python3"
  },
  "language_info": {
   "codemirror_mode": {
    "name": "ipython",
    "version": 3
   },
   "file_extension": ".py",
   "mimetype": "text/x-python",
   "name": "python",
   "nbconvert_exporter": "python",
   "pygments_lexer": "ipython3",
   "version": "3.11.13"
  }
 },
 "nbformat": 4,
 "nbformat_minor": 5
}

{
 "cells": [
  {
   "cell_type": "markdown",
   "id": "b694d48c",
   "metadata": {},
   "source": [
    "# CRISP-DM Beispiel: California Housing\n",
    "In diesem Notebook begleiten wir den Data-Science-Prozess am Beispiel der Vorhersage von Hauspreisen in Kalifornien.\n",
    "Wir nutzen einen offenen Datensatz und Python mit pandas, matplotlib und scikit-learn."
   ]
  },
  {
   "cell_type": "markdown",
   "id": "2c174f41",
   "metadata": {},
   "source": [
    "## 1. Business Understanding\n",
    "Ziel: Wie hängen Lage, Größe und andere Merkmale mit dem Hauswert zusammen? Kann man den Wert vorhersagen?"
   ]
  },
  {
   "cell_type": "markdown",
   "id": "dba16162",
   "metadata": {},
   "source": [
    "## 2. Data Understanding\n",
    "Wir laden den California Housing Datensatz und verschaffen uns einen ersten Überblick."
   ]
  },
  {
   "cell_type": "code",
   "execution_count": null,
   "id": "1709f0c2",
   "metadata": {},
   "outputs": [
    {
     "data": {
      "text/html": [
       "<div>\n",
       "<style scoped>\n",
       "    .dataframe tbody tr th:only-of-type {\n",
       "        vertical-align: middle;\n",
       "    }\n",
       "\n",
       "    .dataframe tbody tr th {\n",
       "        vertical-align: top;\n",
       "    }\n",
       "\n",
       "    .dataframe thead th {\n",
       "        text-align: right;\n",
       "    }\n",
       "</style>\n",
       "<table border=\"1\" class=\"dataframe\">\n",
       "  <thead>\n",
       "    <tr style=\"text-align: right;\">\n",
       "      <th></th>\n",
       "      <th>MedInc</th>\n",
       "      <th>HouseAge</th>\n",
       "      <th>AveRooms</th>\n",
       "      <th>AveBedrms</th>\n",
       "      <th>Population</th>\n",
       "      <th>AveOccup</th>\n",
       "      <th>Latitude</th>\n",
       "      <th>Longitude</th>\n",
       "      <th>MedHouseVal</th>\n",
       "    </tr>\n",
       "  </thead>\n",
       "  <tbody>\n",
       "    <tr>\n",
       "      <th>0</th>\n",
       "      <td>8.3252</td>\n",
       "      <td>41.0</td>\n",
       "      <td>6.984127</td>\n",
       "      <td>1.023810</td>\n",
       "      <td>322.0</td>\n",
       "      <td>2.555556</td>\n",
       "      <td>37.88</td>\n",
       "      <td>-122.23</td>\n",
       "      <td>4.526</td>\n",
       "    </tr>\n",
       "    <tr>\n",
       "      <th>1</th>\n",
       "      <td>8.3014</td>\n",
       "      <td>21.0</td>\n",
       "      <td>6.238137</td>\n",
       "      <td>0.971880</td>\n",
       "      <td>2401.0</td>\n",
       "      <td>2.109842</td>\n",
       "      <td>37.86</td>\n",
       "      <td>-122.22</td>\n",
       "      <td>3.585</td>\n",
       "    </tr>\n",
       "    <tr>\n",
       "      <th>2</th>\n",
       "      <td>7.2574</td>\n",
       "      <td>52.0</td>\n",
       "      <td>8.288136</td>\n",
       "      <td>1.073446</td>\n",
       "      <td>496.0</td>\n",
       "      <td>2.802260</td>\n",
       "      <td>37.85</td>\n",
       "      <td>-122.24</td>\n",
       "      <td>3.521</td>\n",
       "    </tr>\n",
       "    <tr>\n",
       "      <th>3</th>\n",
       "      <td>5.6431</td>\n",
       "      <td>52.0</td>\n",
       "      <td>5.817352</td>\n",
       "      <td>1.073059</td>\n",
       "      <td>558.0</td>\n",
       "      <td>2.547945</td>\n",
       "      <td>37.85</td>\n",
       "      <td>-122.25</td>\n",
       "      <td>3.413</td>\n",
       "    </tr>\n",
       "    <tr>\n",
       "      <th>4</th>\n",
       "      <td>3.8462</td>\n",
       "      <td>52.0</td>\n",
       "      <td>6.281853</td>\n",
       "      <td>1.081081</td>\n",
       "      <td>565.0</td>\n",
       "      <td>2.181467</td>\n",
       "      <td>37.85</td>\n",
       "      <td>-122.25</td>\n",
       "      <td>3.422</td>\n",
       "    </tr>\n",
       "  </tbody>\n",
       "</table>\n",
       "</div>"
      ],
      "text/plain": [
       "   MedInc  HouseAge  AveRooms  AveBedrms  Population  AveOccup  Latitude  \\\n",
       "0  8.3252      41.0  6.984127   1.023810       322.0  2.555556     37.88   \n",
       "1  8.3014      21.0  6.238137   0.971880      2401.0  2.109842     37.86   \n",
       "2  7.2574      52.0  8.288136   1.073446       496.0  2.802260     37.85   \n",
       "3  5.6431      52.0  5.817352   1.073059       558.0  2.547945     37.85   \n",
       "4  3.8462      52.0  6.281853   1.081081       565.0  2.181467     37.85   \n",
       "\n",
       "   Longitude  MedHouseVal  \n",
       "0    -122.23        4.526  \n",
       "1    -122.22        3.585  \n",
       "2    -122.24        3.521  \n",
       "3    -122.25        3.413  \n",
       "4    -122.25        3.422  "
      ]
     },
     "execution_count": 16,
     "metadata": {},
     "output_type": "execute_result"
    }
   ],
   "source": [
    "from sklearn.datasets import fetch_california_housing\n",
    "\n",
    "housing = fetch_california_housing(as_frame=True)\n",
    "df = housing.frame # df is a pandas DataFrame, \"df\" is its variable name\n",
    "df.head()"
   ]
  },
  {
   "cell_type": "markdown",
   "id": "0caf90e8",
   "metadata": {},
   "source": [
    "Spaltennamen ausgeben"
   ]
  },
  {
   "cell_type": "code",
   "execution_count": 13,
   "id": "bf143b80",
   "metadata": {},
   "outputs": [
    {
     "name": "stdout",
     "output_type": "stream",
     "text": [
      "['MedInc', 'HouseAge', 'AveRooms', 'AveBedrms', 'Population', 'AveOccup', 'Latitude', 'Longitude', 'MedHouseVal']\n"
     ]
    }
   ],
   "source": [
    "print(list(df.columns))"
   ]
  },
  {
   "cell_type": "markdown",
   "id": "12de74b3",
   "metadata": {},
   "source": [
    "Erste Zeile anzeigen (die Werte werden hier untereinander aufgelistet, es ist aber die erste Zeile!)"
   ]
  },
  {
   "cell_type": "code",
   "execution_count": 17,
   "id": "288dcc3a",
   "metadata": {},
   "outputs": [
    {
     "name": "stdout",
     "output_type": "stream",
     "text": [
      "MedInc           8.325200\n",
      "HouseAge        41.000000\n",
      "AveRooms         6.984127\n",
      "AveBedrms        1.023810\n",
      "Population     322.000000\n",
      "AveOccup         2.555556\n",
      "Latitude        37.880000\n",
      "Longitude     -122.230000\n",
      "MedHouseVal      4.526000\n",
      "Name: 0, dtype: float64\n"
     ]
    }
   ],
   "source": [
    "print(df.iloc[0])"
   ]
  },
  {
   "cell_type": "markdown",
   "id": "45f7b109",
   "metadata": {},
   "source": [
    "Ersten Wert der ersten Zeile anzeigen"
   ]
  },
  {
   "cell_type": "code",
   "execution_count": 15,
   "id": "5bc7dd19",
   "metadata": {},
   "outputs": [
    {
     "name": "stdout",
     "output_type": "stream",
     "text": [
      "8.3252\n"
     ]
    }
   ],
   "source": [
    "print(df.iloc[0,0])"
   ]
  },
  {
   "cell_type": "markdown",
   "id": "0011fc94",
   "metadata": {},
   "source": [
    "## 3. Erste Datenanalyse und Visualisierung\n",
    "Wir schauen uns die Verteilung des Hauswerts und wichtige Merkmale an."
   ]
  },
  {
   "cell_type": "code",
   "execution_count": 4,
   "id": "b9ca6a96",
   "metadata": {},
   "outputs": [
    {
     "data": {
      "image/png": "[encoded data removed]",
      "text/plain": [
       "<Figure size 640x480 with 1 Axes>"
      ]
     },
     "metadata": {},
     "output_type": "display_data"
    }
   ],
   "source": [
    "import matplotlib.pyplot as plt\n",
    "df['MedHouseVal'].hist(bins=30, edgecolor='black')\n",
    "plt.xlabel('Median House Value (100.000 USD)')\n",
    "plt.ylabel('Anzahl')\n",
    "plt.title('Verteilung der Hauswerte in Kalifornien')\n",
    "plt.show()"
   ]
  },
  {
   "cell_type": "markdown",
   "id": "ebb0265a",
   "metadata": {},
   "source": [
    "## 4. Data Preparation\n",
    "Wir prüfen auf fehlende Werte und bereiten die Daten für die Modellierung vor."
   ]
  },
  {
   "cell_type": "code",
   "execution_count": 5,
   "id": "688180d8",
   "metadata": {},
   "outputs": [
    {
     "name": "stdout",
     "output_type": "stream",
     "text": [
      "<class 'pandas.core.frame.DataFrame'>\n",
      "RangeIndex: 20640 entries, 0 to 20639\n",
      "Data columns (total 9 columns):\n",
      " #   Column       Non-Null Count  Dtype  \n",
      "---  ------       --------------  -----  \n",
      " 0   MedInc       20640 non-null  float64\n",
      " 1   HouseAge     20640 non-null  float64\n",
      " 2   AveRooms     20640 non-null  float64\n",
      " 3   AveBedrms    20640 non-null  float64\n",
      " 4   Population   20640 non-null  float64\n",
      " 5   AveOccup     20640 non-null  float64\n",
      " 6   Latitude     20640 non-null  float64\n",
      " 7   Longitude    20640 non-null  float64\n",
      " 8   MedHouseVal  20640 non-null  float64\n",
      "dtypes: float64(9)\n",
      "memory usage: 1.4 MB\n"
     ]
    },
    {
     "data": {
      "text/plain": [
       "MedInc         0\n",
       "HouseAge       0\n",
       "AveRooms       0\n",
       "AveBedrms      0\n",
       "Population     0\n",
       "AveOccup       0\n",
       "Latitude       0\n",
       "Longitude      0\n",
       "MedHouseVal    0\n",
       "dtype: int64"
      ]
     },
     "execution_count": 5,
     "metadata": {},
     "output_type": "execute_result"
    }
   ],
   "source": [
    "df.info()\n",
    "df.isnull().sum()"
   ]
  },
  {
   "cell_type": "markdown",
   "id": "5700dbd5",
   "metadata": {},
   "source": [
    "## Was tun bei fehlenden Werten?\n",
    "Falls im Datensatz fehlende Werte vorhanden wären, könnten wir verschiedene Strategien anwenden:\n",
    "\n",
    "- **Entfernen der Zeilen/Spalten:** Wenn nur wenige Werte fehlen, kann man die betroffenen Zeilen oder Spalten löschen.\n",
    "- **Auffüllen (Imputation):** Fehlende Werte können durch den Mittelwert, Median oder andere statistische Kennzahlen ersetzt werden.\n",
    "- **Modellbasierte Imputation:** Komplexere Methoden wie KNN-Imputation oder Regressionsmodelle können verwendet werden.\n",
    "\n",
    "Die Wahl der Methode hängt von der Datenmenge, dem Kontext und der Bedeutung der fehlenden Werte ab."
   ]
  },
  {
   "cell_type": "code",
   "execution_count": null,
   "id": "54038237",
   "metadata": {},
   "outputs": [
    {
     "name": "stdout",
     "output_type": "stream",
     "text": [
      "Vorher: MedInc         1\n",
      "HouseAge       0\n",
      "AveRooms       0\n",
      "AveBedrms      0\n",
      "Population     0\n",
      "AveOccup       0\n",
      "Latitude       0\n",
      "Longitude      0\n",
      "MedHouseVal    0\n",
      "dtype: int64\n",
      "Nach Entfernen: MedInc         0\n",
      "HouseAge       0\n",
      "AveRooms       0\n",
      "AveBedrms      0\n",
      "Population     0\n",
      "AveOccup       0\n",
      "Latitude       0\n",
      "Longitude      0\n",
      "MedHouseVal    0\n",
      "dtype: int64\n",
      "Nach Auffüllen: MedInc         0\n",
      "HouseAge       0\n",
      "AveRooms       0\n",
      "AveBedrms      0\n",
      "Population     0\n",
      "AveOccup       0\n",
      "Latitude       0\n",
      "Longitude      0\n",
      "MedHouseVal    0\n",
      "dtype: int64\n"
     ]
    }
   ],
   "source": [
    "# Beispiel: Fehlende Werte behandeln\n",
    "import numpy as np\n",
    "df_missing = df.copy()\n",
    "df_missing.iloc[0, 0] = np.nan  # künstlich einen fehlenden Wert erzeugen\n",
    "print('Vorher:', df_missing.isnull().sum())\n",
    "\n",
    "# 1. Variante: Zeile mit fehlendem Wert entfernen\n",
    "df_drop = df_missing.dropna()\n",
    "print('Nach Entfernen:', df_drop.isnull().sum())\n",
    "\n",
    "# 2. Variante: Fehlende Werte mit Mittelwert auffüllen\n",
    "df_fill = df_missing.fillna(df_missing.mean(numeric_only=True))\n",
    "print('Nach Auffüllen:', df_fill.isnull().sum())"
   ]
  },
  {
   "cell_type": "markdown",
   "id": "065e6cf2",
   "metadata": {},
   "source": [
    "## 5. Ausblick: Modellierung und Evaluation\n",
    "Im nächsten Schritt werden wir ein erstes Vorhersagemodell bauen und bewerten."
   ]
  }
 ],
 "metadata": {
  "kernelspec": {
   "display_name": "lecture_env",
   "language": "python",
   "name": "python3"
  },
  "language_info": {
   "codemirror_mode": {
    "name": "ipython",
    "version": 3
   },
   "file_extension": ".py",
   "mimetype": "text/x-python",
   "name": "python",
   "nbconvert_exporter": "python",
   "pygments_lexer": "ipython3",
   "version": "3.11.13"
  }
 },
 "nbformat": 4,
 "nbformat_minor": 5
}

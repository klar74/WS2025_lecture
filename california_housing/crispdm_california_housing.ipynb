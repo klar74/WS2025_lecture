{
 "cells": [
  {
   "cell_type": "markdown",
   "id": "b694d48c",
   "metadata": {},
   "source": [
    "# CRISP-DM Beispiel: California Housing\n",
    "In diesem Notebook begleiten wir den Data-Science-Prozess am Beispiel der Vorhersage von Hauspreisen in Kalifornien.\n",
    "Wir nutzen einen offenen Datensatz und Python mit pandas, matplotlib und scikit-learn."
   ]
  },
  {
   "cell_type": "markdown",
   "id": "2c174f41",
   "metadata": {},
   "source": [
    "## 1. Business Understanding\n",
    "Ziel: Wie hängen Lage, Größe und andere Merkmale mit dem Hauswert zusammen? Kann man den Wert vorhersagen?"
   ]
  },
  {
   "cell_type": "markdown",
   "id": "dba16162",
   "metadata": {},
   "source": [
    "## 2. Data Understanding\n",
    "Wir laden den California Housing Datensatz und verschaffen uns einen ersten Überblick."
   ]
  },
  {
   "cell_type": "code",
   "execution_count": null,
   "id": "1709f0c2",
   "metadata": {},
   "outputs": [],
   "source": [
    "import pandas as pd\n",
    "from sklearn.datasets import fetch_california_housing\n",
    "\n",
    "housing = fetch_california_housing(as_frame=True)\n",
    "df = housing.frame\n",
    "df.head()"
   ]
  },
  {
   "cell_type": "markdown",
   "id": "0011fc94",
   "metadata": {},
   "source": [
    "## 3. Erste Datenanalyse und Visualisierung\n",
    "Wir schauen uns die Verteilung des Hauswerts und wichtige Merkmale an."
   ]
  },
  {
   "cell_type": "code",
   "execution_count": null,
   "id": "b9ca6a96",
   "metadata": {},
   "outputs": [],
   "source": [
    "import matplotlib.pyplot as plt\n",
    "df['MedHouseVal'].hist(bins=30, edgecolor='black')\n",
    "plt.xlabel('Median House Value (100.000 USD)')\n",
    "plt.ylabel('Anzahl')\n",
    "plt.title('Verteilung der Hauswerte in Kalifornien')\n",
    "plt.show()"
   ]
  },
  {
   "cell_type": "markdown",
   "id": "ebb0265a",
   "metadata": {},
   "source": [
    "## 4. Data Preparation\n",
    "Wir prüfen auf fehlende Werte und bereiten die Daten für die Modellierung vor."
   ]
  },
  {
   "cell_type": "code",
   "execution_count": null,
   "id": "688180d8",
   "metadata": {},
   "outputs": [],
   "source": [
    "df.info()\n",
    "df.isnull().sum()"
   ]
  },
  {
   "cell_type": "markdown",
   "id": "065e6cf2",
   "metadata": {},
   "source": [
    "## 5. Ausblick: Modellierung und Evaluation\n",
    "Im nächsten Schritt werden wir ein erstes Vorhersagemodell bauen und bewerten."
   ]
  }
 ],
 "metadata": {
  "kernelspec": {
   "display_name": "lecture_env",
   "language": "python",
   "name": "python3"
  },
  "language_info": {
   "name": "python",
   "version": "3.11.13"
  }
 },
 "nbformat": 4,
 "nbformat_minor": 5
}

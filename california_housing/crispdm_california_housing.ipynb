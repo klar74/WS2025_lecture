{
 "cells": [
  {
   "cell_type": "markdown",
   "id": "b694d48c",
   "metadata": {},
   "source": [
    "# CRISP-DM Beispiel: California Housing\n",
    "In diesem Notebook begleiten wir den Data-Science-Prozess am Beispiel der Vorhersage von Hauspreisen in Kalifornien.\n",
    "Wir nutzen einen offenen Datensatz und Python mit pandas, matplotlib und scikit-learn."
   ]
  },
  {
   "cell_type": "markdown",
   "id": "2c174f41",
   "metadata": {},
   "source": [
    "## 1. Business Understanding\n",
    "Ziel: Wie hängen Lage, Größe und andere Merkmale mit dem Hauswert zusammen? Kann man den Wert vorhersagen?"
   ]
  },
  {
   "cell_type": "markdown",
   "id": "dba16162",
   "metadata": {},
   "source": [
    "## 2. Data Understanding\n",
    "Wir laden den California Housing Datensatz und verschaffen uns einen ersten Überblick."
   ]
  },
  {
   "cell_type": "code",
   "execution_count": null,
   "id": "1709f0c2",
   "metadata": {},
   "outputs": [],
   "source": [
    "from sklearn.datasets import fetch_california_housing\n",
    "\n",
    "housing = fetch_california_housing(as_frame=True)\n",
    "df = housing.frame # df is a pandas DataFrame, \"df\" is its variable name\n",
    "df.head()"
   ]
  },
  {
   "cell_type": "markdown",
   "id": "0caf90e8",
   "metadata": {},
   "source": [
    "Spaltennamen ausgeben"
   ]
  },
  {
   "cell_type": "code",
   "execution_count": null,
   "id": "bf143b80",
   "metadata": {},
   "outputs": [],
   "source": [
    "print(list(df.columns))"
   ]
  },
  {
   "cell_type": "markdown",
   "id": "12de74b3",
   "metadata": {},
   "source": [
    "Erste Zeile anzeigen (die Werte werden hier untereinander aufgelistet, es ist aber die erste Zeile!)"
   ]
  },
  {
   "cell_type": "code",
   "execution_count": null,
   "id": "288dcc3a",
   "metadata": {},
   "outputs": [],
   "source": [
    "print(df.iloc[0])"
   ]
  },
  {
   "cell_type": "markdown",
   "id": "45f7b109",
   "metadata": {},
   "source": [
    "Ersten Wert der ersten Zeile anzeigen"
   ]
  },
  {
   "cell_type": "code",
   "execution_count": null,
   "id": "5bc7dd19",
   "metadata": {},
   "outputs": [],
   "source": [
    "print(df.iloc[0,0])"
   ]
  },
  {
   "cell_type": "markdown",
   "id": "0011fc94",
   "metadata": {},
   "source": [
    "## 3. Erste Datenanalyse und Visualisierung\n",
    "Wir schauen uns die Verteilung des Hauswerts und wichtige Merkmale an."
   ]
  },
  {
   "cell_type": "code",
   "execution_count": null,
   "id": "b9ca6a96",
   "metadata": {},
   "outputs": [],
   "source": [
    "import matplotlib.pyplot as plt\n",
    "df['MedHouseVal'].hist(bins=30, edgecolor='black')\n",
    "plt.xlabel('Median House Value (100.000 USD)')\n",
    "plt.ylabel('Anzahl')\n",
    "plt.title('Verteilung der Hauswerte in Kalifornien')\n",
    "plt.show()"
   ]
  },
  {
   "cell_type": "markdown",
   "id": "ebb0265a",
   "metadata": {},
   "source": [
    "## 4. Data Preparation\n",
    "Wir prüfen auf fehlende Werte und bereiten die Daten für die Modellierung vor."
   ]
  },
  {
   "cell_type": "code",
   "execution_count": null,
   "id": "688180d8",
   "metadata": {},
   "outputs": [],
   "source": [
    "df.info()\n",
    "df.isnull().sum()"
   ]
  },
  {
   "cell_type": "markdown",
   "id": "5700dbd5",
   "metadata": {},
   "source": [
    "## Was tun bei fehlenden Werten?\n",
    "Falls im Datensatz fehlende Werte vorhanden wären, könnten wir verschiedene Strategien anwenden:\n",
    "\n",
    "- **Entfernen der Zeilen/Spalten:** Wenn nur wenige Werte fehlen, kann man die betroffenen Zeilen oder Spalten löschen.\n",
    "- **Auffüllen (Imputation):** Fehlende Werte können durch den Mittelwert, Median oder andere statistische Kennzahlen ersetzt werden.\n",
    "- **Modellbasierte Imputation:** Komplexere Methoden wie KNN-Imputation oder Regressionsmodelle können verwendet werden.\n",
    "\n",
    "Die Wahl der Methode hängt von der Datenmenge, dem Kontext und der Bedeutung der fehlenden Werte ab."
   ]
  },
  {
   "cell_type": "code",
   "execution_count": null,
   "id": "54038237",
   "metadata": {},
   "outputs": [],
   "source": [
    "# Beispiel: Fehlende Werte behandeln\n",
    "import numpy as np\n",
    "df_missing = df.copy()\n",
    "df_missing.iloc[0, 0] = np.nan  # künstlich einen fehlenden Wert erzeugen\n",
    "print('Vorher:', df_missing.isnull().sum())\n",
    "\n",
    "# 1. Variante: Zeile mit fehlendem Wert entfernen\n",
    "df_drop = df_missing.dropna()\n",
    "print('Nach Entfernen:', df_drop.isnull().sum())\n",
    "\n",
    "# 2. Variante: Fehlende Werte mit Mittelwert auffüllen\n",
    "df_fill = df_missing.fillna(df_missing.mean(numeric_only=True))\n",
    "print('Nach Auffüllen:', df_fill.isnull().sum())"
   ]
  },
  {
   "cell_type": "markdown",
   "id": "065e6cf2",
   "metadata": {},
   "source": [
    "## 5. Ausblick: Modellierung und Evaluation\n",
    "Im nächsten Schritt werden wir ein erstes Vorhersagemodell bauen und bewerten."
   ]
  }
 ],
 "metadata": {
  "kernelspec": {
   "display_name": "lecture_env",
   "language": "python",
   "name": "python3"
  },
  "language_info": {
   "codemirror_mode": {
    "name": "ipython",
    "version": 3
   },
   "file_extension": ".py",
   "mimetype": "text/x-python",
   "name": "python",
   "nbconvert_exporter": "python",
   "pygments_lexer": "ipython3",
   "version": "3.11.13"
  }
 },
 "nbformat": 4,
 "nbformat_minor": 5
}

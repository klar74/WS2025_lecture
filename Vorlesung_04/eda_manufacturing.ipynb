{
 "cells": [
  {
   "cell_type": "markdown",
   "id": "cedef378",
   "metadata": {},
   "source": [
    "# EDA mit Manufacturing Process Data Set\n",
    "Dieses Notebook zeigt Beispiele für deskriptive Statistik und Visualisierung mit einem simulierten industriellen Datensatz."
   ]
  },
  {
   "cell_type": "markdown",
   "id": "232edda6",
   "metadata": {},
   "source": [
    "## Beschreibung des simulierten Datensatzes\n",
    "Der Datensatz simuliert Produktdaten aus einer industriellen Fertigung. Jede Zeile steht für ein einzelnes Produkt.\n",
    "\n",
    "**Merkmale:**\n",
    "- **ProductID:** Eindeutige Kennung für jedes Produkt.\n",
    "- **Temperature:** Temperaturmessung beim Produkt (z. B. während der Herstellung oder Prüfung).\n",
    "- **Pressure:** Druckmessung beim Produkt.\n",
    "- **Defects:** Gibt an, ob das Produkt einen Defekt hat (1 = Defekt, 0 = kein Defekt). Etwa 2 % der Produkte sind defekt.\n",
    "- **Energy:** Energieverbrauch, der für die Herstellung des Produkts angefallen ist.\n",
    "- **Supplier:** Zugeordneter Lieferant für Material oder Komponenten des Produkts.\n",
    "\n",
    "**Interpretation:**\n",
    "Der Datensatz ist typisch für die Analyse von Fertigungs- und Qualitätsdaten, bei denen für jedes Produkt verschiedene Merkmale und Prüfwerte erfasst werden.\n",
    "So lassen sich Muster, Ausreißer und Zusammenhänge erkennen, z. B. wie Temperatur und Druck die Defektrate beeinflussen oder wie der Energieverbrauch je Lieferant variiert.\n",
    "\n",
    "**Typische Anwendungen:**\n",
    "- Qualitätskontrolle und Fehleranalyse auf Produktebene\n",
    "- Lieferantenvergleich und Prozessoptimierung\n",
    "- Analyse von Einflussfaktoren auf Defekte"
   ]
  },
  {
   "cell_type": "code",
   "execution_count": null,
   "id": "e06e78e9",
   "metadata": {},
   "outputs": [],
   "source": [
    "import pandas as pd\n",
    "import matplotlib.pyplot as plt\n",
    "import seaborn as sns\n",
    "import numpy as np\n",
    "\n",
    "# Beispiel: Datensatz laden (hier: synthetisch)\n",
    "np.random.seed(42)\n",
    "n = 500\n",
    "suppliers = np.random.choice(['X', 'Y', 'Z'], n)\n",
    "energy_means = {'X': 95, 'Y': 170, 'Z': 120}\n",
    "energy = np.array([np.random.normal(energy_means[s], 12, 1)[0] for s in suppliers])\n",
    "defects = np.random.choice([0, 1], n, p=[0.98, 0.02])\n",
    "pressure = np.random.normal(30, 2, n) + defects * 2.5\n",
    "df = pd.DataFrame({\n",
    "    'ProductID': np.arange(1, n+1),\n",
    "    'Temperature': np.random.normal(70, 5, n),\n",
    "    'Pressure': pressure,\n",
    "    'Defects': defects,\n",
    "    'Energy': energy,\n",
    "    'Supplier': suppliers\n",
    "})\n",
    "df = df.sort_values('Supplier').reset_index(drop=True)\n",
    "df.head()"
   ]
  },
  {
   "cell_type": "markdown",
   "id": "4b172c8c",
   "metadata": {},
   "source": [
    "## Histogramm: Temperaturverteilung"
   ]
  },
  {
   "cell_type": "code",
   "execution_count": null,
   "id": "dcdf7f48",
   "metadata": {},
   "outputs": [],
   "source": [
    "plt.figure(figsize=(6,4))\n",
    "sns.histplot(df['Temperature'], bins=20, kde=True, color='steelblue')\n",
    "plt.title('Histogramm der Temperatur')\n",
    "plt.xlabel('Temperatur [°C]')\n",
    "plt.ylabel('Anzahl')\n",
    "plt.tight_layout()\n",
    "plt.savefig('../figures/hist_temperature.png')\n",
    "plt.show()"
   ]
  },
  {
   "cell_type": "markdown",
   "id": "c328b3f4",
   "metadata": {},
   "source": [
    "## Boxplot: Qualitätsvergleich je Lieferant"
   ]
  },
  {
   "cell_type": "code",
   "execution_count": null,
   "id": "6acbdaa9",
   "metadata": {},
   "outputs": [],
   "source": [
    "plt.figure(figsize=(6,4))\n",
    "sns.boxplot(x='Supplier', y='Energy', data=df, palette='Set2')\n",
    "plt.title('Boxplot: Energieverbrauch je Lieferant')\n",
    "plt.xlabel('Lieferant')\n",
    "plt.ylabel('Energieverbrauch [kWh]')\n",
    "plt.tight_layout()\n",
    "plt.savefig('../figures/boxplot_energy_supplier.png')\n",
    "plt.show()"
   ]
  },
  {
   "cell_type": "markdown",
   "id": "a3d8e2d5",
   "metadata": {},
   "source": [
    "## Scatterplot: Temperatur vs. Druck"
   ]
  },
  {
   "cell_type": "code",
   "execution_count": null,
   "id": "f53ba080",
   "metadata": {},
   "outputs": [],
   "source": [
    "plt.figure(figsize=(6,4))\n",
    "sns.scatterplot(x='Temperature', y='Pressure', hue='Defects', data=df, alpha=0.7)\n",
    "plt.title('Scatterplot: Temperatur vs. Druck')\n",
    "plt.xlabel('Temperatur [°C]')\n",
    "plt.ylabel('Druck [bar]')\n",
    "plt.tight_layout()\n",
    "plt.savefig('../figures/scatter_temp_pressure.png')\n",
    "plt.show()"
   ]
  },
  {
   "cell_type": "markdown",
   "id": "11e43fd5",
   "metadata": {},
   "source": [
    "## Korrelationsmatrix: numerische Merkmale"
   ]
  },
  {
   "cell_type": "code",
   "execution_count": null,
   "id": "63851967",
   "metadata": {},
   "outputs": [],
   "source": [
    "plt.figure(figsize=(5,4))\n",
    "corr = df[['Temperature','Pressure','Defects','Energy']].corr()\n",
    "sns.heatmap(corr, annot=True, cmap='Blues', fmt='.2f')\n",
    "plt.title('Korrelationsmatrix')\n",
    "plt.tight_layout()\n",
    "plt.savefig('../figures/corr_matrix.png')\n",
    "plt.show()"
   ]
  },
  {
   "cell_type": "markdown",
   "id": "addec6b1",
   "metadata": {},
   "source": [
    "## Zeitreihe: Energieverbrauch (synthetisch)"
   ]
  },
  {
   "cell_type": "code",
   "execution_count": null,
   "id": "19ad510f",
   "metadata": {},
   "outputs": [],
   "source": [
    "df['Timestamp'] = pd.date_range('2025-01-01', periods=n, freq='H')\n",
    "plt.figure(figsize=(8,3))\n",
    "plt.plot(df['Timestamp'], df['Energy'], color='darkorange', alpha=0.7)\n",
    "plt.title('Zeitreihe: Energieverbrauch')\n",
    "plt.xlabel('Zeit')\n",
    "plt.ylabel('Energieverbrauch [kWh]')\n",
    "plt.tight_layout()\n",
    "plt.savefig('../figures/timeseries_energy.png')\n",
    "plt.show()"
   ]
  }
 ],
 "metadata": {
  "kernelspec": {
   "display_name": "lecture_env",
   "language": "python",
   "name": "python3"
  },
  "language_info": {
   "codemirror_mode": {
    "name": "ipython",
    "version": 3
   },
   "file_extension": ".py",
   "mimetype": "text/x-python",
   "name": "python",
   "nbconvert_exporter": "python",
   "pygments_lexer": "ipython3",
   "version": "3.11.13"
  }
 },
 "nbformat": 4,
 "nbformat_minor": 5
}

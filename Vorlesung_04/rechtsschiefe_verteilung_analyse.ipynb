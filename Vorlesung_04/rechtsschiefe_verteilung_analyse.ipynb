{
 "cells": [
  {
   "cell_type": "markdown",
   "id": "ddcd4cc7",
   "metadata": {},
   "source": [
    "# Analyse einer rechtsschiefen Verteilung\n",
    "\n",
    "[![Open In Colab](https://colab.research.google.com/assets/colab-badge.svg)](https://colab.research.google.com/github/klar74/WS2025_lecture/blob/main/Vorlesung_04/rechtsschiefe_verteilung_analyse.ipynb)\n",
    "\n",
    "In diesem Notebook werden 50 ganzzahlige Werte aus einer rechtsschiefen Verteilung erzeugt. Die Studierenden sollen mit Papier und Stift prüfen, ob die Werte normalverteilt sind. Anschließend werden Histogramm und ein Gauss-Fit gezeigt."
   ]
  },
  {
   "cell_type": "markdown",
   "id": "9de71bae",
   "metadata": {},
   "source": [
    "## 1. Importiere benötigte Bibliotheken\n",
    "\n",
    "Wir verwenden numpy, matplotlib und scipy.stats für die Datenanalyse und Visualisierung."
   ]
  },
  {
   "cell_type": "code",
   "execution_count": null,
   "id": "43a58354",
   "metadata": {},
   "outputs": [],
   "source": [
    "import numpy as np\n",
    "import matplotlib.pyplot as plt\n",
    "from scipy import stats\n",
    "\n",
    "np.random.seed(42)  # Für Reproduzierbarkeit"
   ]
  },
  {
   "cell_type": "markdown",
   "id": "2f6c5905",
   "metadata": {},
   "source": [
    "## 2. Generiere 50 ganzzahlige Werte aus einer rechtsschiefen Verteilung\n",
    "\n",
    "Wir verwenden eine Exponentialverteilung, runden die Werte und speichern sie als Liste."
   ]
  },
  {
   "cell_type": "code",
   "execution_count": null,
   "id": "161a5a81",
   "metadata": {},
   "outputs": [],
   "source": [
    "werte = np.random.exponential(scale=10, size=50)\n",
    "werte = np.round(werte).astype(int)\n",
    "werte_liste = [int(x) for x in werte]"
   ]
  },
  {
   "cell_type": "markdown",
   "id": "3020ec7a",
   "metadata": {},
   "source": [
    "## 3. Die Werte als Liste\n",
    "\n",
    "Hier sind die 50 Werte. Analysiere sie mit Papier und Stift: Schätze Mittelwert, Median, Modus, Streuung und prüfe, ob sie normalverteilt sein könnten."
   ]
  },
  {
   "cell_type": "code",
   "execution_count": null,
   "id": "044d3e47",
   "metadata": {},
   "outputs": [],
   "source": [
    "print(werte_liste)"
   ]
  },
  {
   "cell_type": "markdown",
   "id": "5aed8cb4",
   "metadata": {},
   "source": [
    "## 4. Vergleich von Mittelwert, Median und Modus\n",
    "\n",
    "Vergleiche die Lageparameter. Bei einer Normalverteilung sind sie ähnlich, bei Schiefe unterscheiden sie sich deutlich."
   ]
  },
  {
   "cell_type": "code",
   "execution_count": null,
   "id": "9248d69c",
   "metadata": {},
   "outputs": [],
   "source": [
    "mittelwert = np.mean(werte)\n",
    "median = np.median(werte)\n",
    "modus = stats.mode(werte, keepdims=True)[0][0]\n",
    "print(f\"Mittelwert: {mittelwert:.2f}\")\n",
    "print(f\"Median:    {median}\")\n",
    "print(f\"Modus:     {modus}\")"
   ]
  },
  {
   "cell_type": "markdown",
   "id": "8a8d3cc6",
   "metadata": {},
   "source": [
    "## 4. Histogramm der Werte\n",
    "\n",
    "Das Histogramm zeigt die Verteilung der Werte. Ist sie symmetrisch?"
   ]
  },
  {
   "cell_type": "code",
   "execution_count": null,
   "id": "ead32729",
   "metadata": {},
   "outputs": [],
   "source": [
    "plt.figure(figsize=(8,5))\n",
    "plt.hist(werte, bins=10, color='skyblue', edgecolor='black', alpha=0.8, density=True)\n",
    "plt.xlabel('Wert')\n",
    "plt.ylabel('Relative Häufigkeit')\n",
    "plt.title('Histogramm der 50 Werte')\n",
    "plt.grid(alpha=0.3)\n",
    "plt.show()"
   ]
  },
  {
   "cell_type": "markdown",
   "id": "3566a12e",
   "metadata": {},
   "source": [
    "## 5. Statistische Tests auf Normalverteilung\n",
    "\n",
    "Wir führen zwei gängige Tests durch:\n",
    "- **Shapiro-Wilk-Test:** Sehr gut für kleine Stichproben, prüft explizit auf Normalverteilung.\n",
    "- **Kolmogorov-Smirnov-Test:** Vergleicht die Verteilung mit einer Normalverteilung.\n",
    "\n",
    "Ein p-Wert < 0.05 spricht gegen Normalverteilung."
   ]
  },
  {
   "cell_type": "markdown",
   "id": "dfae0310",
   "metadata": {},
   "source": [
    "**Hinweis zu Statistik und p-Wert:**\n",
    "\n",
    "- Die **Teststatistik** ist ein Maß, das der jeweilige Test aus den Daten berechnet. Sie gibt an, wie gut die Daten einer Normalverteilung entsprechen.\n",
    "- Der **p-Wert** ist die Wahrscheinlichkeit, unter der Annahme einer Normalverteilung mindestens so extreme Daten zu beobachten wie die gemessenen. Ist der p-Wert kleiner als 0,05, spricht das gegen Normalverteilung (man lehnt die Nullhypothese ab). Ein großer p-Wert bedeutet, dass die Daten mit einer Normalverteilung vereinbar sind.\n",
    "\n",
    "Die Teststatistik ist der aus den Daten berechnete Wert, der die Grundlage für die Berechnung des p-Werts bildet. Sie zeigt, wie stark die Daten von der erwarteten Verteilung abweichen. Der p-Wert ergibt sich aus der Teststatistik und beschreibt, wie wahrscheinlich ein mindestens so extremer Wert unter der Nullhypothese ist.\n",
    "\n",
    "- Die Teststatistik ist das „Roh-Ergebnis“ des Tests.\n",
    "- Der p-Wert ist die daraus abgeleitete Wahrscheinlichkeit.\n",
    "\n",
    "Die Teststatistik ermöglicht außerdem Vergleiche zwischen verschiedenen Stichproben oder Tests."
   ]
  },
  {
   "cell_type": "markdown",
   "id": "1a1b0217",
   "metadata": {},
   "source": [
    "**Was bedeutet der p-Wert anschaulich?**\n",
    "\n",
    "Stell dir vor, die Daten wären wirklich normalverteilt. Der p-Wert gibt dann an, wie wahrscheinlich es ist, dass man durch Zufall Daten bekommt, die mindestens so ungewöhnlich/extrem sind wie die, die man tatsächlich gemessen hat.\n",
    "\n",
    "- Ist der p-Wert klein (z.B. < 0.05), dann wären so extreme Daten bei einer Normalverteilung sehr unwahrscheinlich. Das spricht gegen Normalverteilung.\n",
    "- Ist der p-Wert groß, dann sind die Daten für eine Normalverteilung typisch – man kann die Normalverteilung also nicht widerlegen.\n",
    "\n",
    "**Merke:**\n",
    "Der p-Wert ist KEINE Wahrscheinlichkeit, dass die Daten normalverteilt sind! Er sagt nur, wie ungewöhnlich die Daten unter der Annahme einer Normalverteilung wären.\n",
    "\n",
    "Der Shapiro-Wilk-Test ist kein Beweis für Normalität. Ein großes p heißt nur: keine Abweichung von Normalverteilung nachweisbar, nicht „beweist normal“."
   ]
  },
  {
   "cell_type": "code",
   "execution_count": null,
   "id": "b255533e",
   "metadata": {},
   "outputs": [],
   "source": [
    "# Shapiro-Wilk-Test\n",
    "shapiro_stat, shapiro_p = stats.shapiro(werte)\n",
    "print(f\"Shapiro-Wilk-Test: Statistik = {shapiro_stat:.3f}, p-Wert = {shapiro_p:.3f}\")\n",
    "if shapiro_p < 0.05:\n",
    "    print(\"→ Die Nullhypothese 'Normalverteilung' wird abgelehnt.\")\n",
    "else:\n",
    "    print(\"→ Keine Evidenz gegen Normalverteilung.\")\n",
    "\n",
    "# Kolmogorov-Smirnov-Test\n",
    "mu, sigma = stats.norm.fit(werte)\n",
    "ks_stat, ks_p = stats.kstest(werte, 'norm', args=(mu, sigma))\n",
    "print(f\"Kolmogorov-Smirnov-Test: Statistik = {ks_stat:.3f}, p-Wert = {ks_p:.3f}\")\n",
    "if ks_p < 0.05:\n",
    "    print(\"→ Die Nullhypothese 'Normalverteilung' wird abgelehnt.\")\n",
    "else:\n",
    "    print(\"→ Keine Evidenz gegen Normalverteilung.\")"
   ]
  },
  {
   "cell_type": "markdown",
   "id": "7bc8a2eb",
   "metadata": {},
   "source": [
    "## 5. Gauss-Fit (Normalverteilung) über das Histogramm\n",
    "\n",
    "Wir fitten eine Normalverteilung auf die Werte und zeichnen die Dichtefunktion über das Histogramm.\n",
    "\n",
    "**Wichtiger Hinweis:** Man kann **immer** eine Normalverteilung an beliebige Daten fitten - auch wenn sie gar nicht normalverteilt sind! Der Fit-Algorithmus berechnet einfach Mittelwert und Standardabweichung und zeichnet die entsprechende Gauss-Kurve. \n",
    "\n",
    "Ob der Fit **sinnvoll** ist, sieht man erst im Plot: Wenn die rote Kurve schlecht zu den Histogramm-Balken passt (wie bei unseren rechtsschiefen Daten), dann ist die Normalverteilung kein gutes Modell für die Daten."
   ]
  },
  {
   "cell_type": "code",
   "execution_count": null,
   "id": "c6a40fbb",
   "metadata": {},
   "outputs": [],
   "source": [
    "# Fit einer Normalverteilung\n",
    "mu, sigma = stats.norm.fit(werte)\n",
    "x = np.linspace(min(werte), max(werte), 100)\n",
    "pdf = stats.norm.pdf(x, mu, sigma)\n",
    "\n",
    "plt.figure(figsize=(8,5))\n",
    "plt.hist(werte, bins=10, color='skyblue', edgecolor='black', alpha=0.8, density=True, label='Histogramm')\n",
    "plt.plot(x, pdf, 'r-', lw=2, label=f'Normalverteilung\\n$\\mu$={mu:.2f}, $\\sigma$={sigma:.2f}')\n",
    "plt.xlabel('Wert')\n",
    "plt.ylabel('Relative Häufigkeit / Dichte')\n",
    "plt.title('Histogramm mit Gauss-Fit')\n",
    "plt.legend()\n",
    "plt.grid(alpha=0.3)\n",
    "plt.show()\n",
    "\n",
    "print(f\"Geschätzter Mittelwert: {mu:.2f}\")\n",
    "print(f\"Geschätzte Standardabweichung: {sigma:.2f}\")"
   ]
  }
 ],
 "metadata": {
  "kernelspec": {
   "display_name": "lecture_env",
   "language": "python",
   "name": "python3"
  },
  "language_info": {
   "codemirror_mode": {
    "name": "ipython",
    "version": 3
   },
   "file_extension": ".py",
   "mimetype": "text/x-python",
   "name": "python",
   "nbconvert_exporter": "python",
   "pygments_lexer": "ipython3",
   "version": "3.11.13"
  }
 },
 "nbformat": 4,
 "nbformat_minor": 5
}

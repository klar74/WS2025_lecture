{
 "cells": [
  {
   "cell_type": "markdown",
   "id": "41bebe3a",
   "metadata": {},
   "source": [
    "# Korrelations- und Verteilungsanalyse: Körpergröße, Schuhgröße und Gewicht\n",
    "\n",
    "[![Open In Colab](https://colab.research.google.com/assets/colab-badge.svg)](https://colab.research.google.com/github/klar74/WS2025_lecture/blob/main/Vorlesung_04/korrelationsanalyse_beispiel.ipynb)\n",
    "\n",
    "**Lernziele:**\n",
    "- Normalverteilung erkennen und fitten\n",
    "- Scatterplot und linearer Fit\n",
    "- Korrelationen berechnen\n",
    "- Statistische Tests und ihre Tücken"
   ]
  },
  {
   "cell_type": "code",
   "execution_count": null,
   "id": "b2f5b349",
   "metadata": {},
   "outputs": [],
   "source": [
    "import numpy as np\n",
    "import pandas as pd\n",
    "import matplotlib.pyplot as plt\n",
    "import seaborn as sns\n",
    "from scipy import stats\n",
    "import warnings\n",
    "warnings.filterwarnings('ignore')\n",
    "\n",
    "# Styling\n",
    "plt.style.use('default')\n",
    "sns.set_palette(\"husl\")\n",
    "plt.rcParams['figure.figsize'] = (10, 6)\n",
    "plt.rcParams['font.size'] = 12\n",
    "\n",
    "np.random.seed(42)\n",
    "print(\"📊 Bibliotheken erfolgreich importiert!\")"
   ]
  },
  {
   "cell_type": "markdown",
   "id": "d708fa43",
   "metadata": {},
   "source": [
    "## 1. Datenerstellung"
   ]
  },
  {
   "cell_type": "code",
   "execution_count": null,
   "id": "26015c8a",
   "metadata": {},
   "outputs": [],
   "source": [
    "# Explizite Werte für die drei Listen\n",
    "#koerpergroesse = [172, 180, 168, 175, 182, 177, 169, 173, 178, 165, 170, 176, 181, 174, 179, 167, 171, 183, 166, 177, 172, ]\n",
    "#schuhgroesse = [42, 44, 40, 43, 45, 44, 41, 42, 44, 39, 41, 43, 45, 42, 44, 40, 41, 46, 39, 43, 42]\n",
    "#gewicht = [68, 85, 62, 75, 90, 80, 65, 70, 78, 60, 66, 77, 88, 72, 82, 63, 69, 92, 61, 79, 71]\n",
    "\n",
    "koerpergroesse = [188, 194, 178, 179, 165, 163, 172, 183, 181, 195, 186, 196, 179 , 190, 187, 165, 190, 169, 183, 177, 170]\n",
    "gewicht = [108, 91, 60, 84, 70, 58, 72, 80, 70, 90, 93, 96, 95, 83, 99, 55, 85, 62, 84, 77, 70]\n",
    "schuhgroesse = [45, 43, 42, 44, 39, 39, 42, 43, 43, 47, 45, 47, 46, 46, 44, 41, 47, 39, 44, 42, 40]\n",
    "#gewicht = [108, 91, 60, 84, 70, 58, 72, 80, 70, 90, 93, 96, 95, 83, 99, 100, 55, 85, 62, 84, 77, 70]\n",
    "\n",
    "\n",
    "df = pd.DataFrame({\n",
    "    'Körpergröße [cm]': koerpergroesse,\n",
    "    'Schuhgröße [EU]': schuhgroesse,\n",
    "    'Gewicht [kg]': gewicht\n",
    "})\n",
    "print(\"=== DATEN (21 Personen) ===\")\n",
    "print(df.head(10))\n",
    "print(f'Deskriptive Statistik:')\n",
    "print(df.describe().round(2))"
   ]
  },
  {
   "cell_type": "markdown",
   "id": "ac7b8a1e",
   "metadata": {},
   "source": [
    "## 2. Histogramm mit Normalverteilungs-Fit\n",
    "\n",
    "Wir wählen die **Körpergröße** und überprüfen, ob sie normalverteilt ist."
   ]
  },
  {
   "cell_type": "code",
   "execution_count": null,
   "id": "a5695fcc",
   "metadata": {},
   "outputs": [],
   "source": [
    "variable = 'Körpergröße [cm]'; data = df[variable].values\n",
    "mu, sigma = stats.norm.fit(data)\n",
    "fig, ax = plt.subplots(1, 1, figsize=(10, 6))\n",
    "n_bins = 16\n",
    "counts, bins, patches = ax.hist(data, bins=n_bins, density=True, alpha=0.7, color='skyblue', edgecolor='black', linewidth=1)\n",
    "x_fit = np.linspace(data.min() - 5, data.max() + 5, 100)\n",
    "y_fit = stats.norm.pdf(x_fit, mu, sigma)\n",
    "ax.plot(x_fit, y_fit, 'r-', linewidth=3, label=f'Normalverteilung\\nμ = {mu:.1f}, σ = {sigma:.1f}')\n",
    "ax.set_xlabel(variable, fontsize=12)\n",
    "ax.set_ylabel('Dichte', fontsize=12)\n",
    "ax.set_title(f'Histogramm: {variable} mit Normalverteilungs-Fit', fontsize=14, fontweight='bold')\n",
    "ax.legend()\n",
    "ax.grid(True, alpha=0.3)\n",
    "shapiro_stat, shapiro_p = stats.shapiro(data)\n",
    "ax.text(0.02, 0.98, f'Shapiro-Wilk Test:\\nW-Wert = {shapiro_stat:.3f}\\np-Wert = {shapiro_p:.3f}', transform=ax.transAxes, verticalalignment='top', bbox=dict(boxstyle=\"round,pad=0.3\", facecolor=\"wheat\", alpha=0.8))\n",
    "plt.tight_layout()\n",
    "plt.show()\n",
    "print(f'📊 Normalverteilungstest für {variable}:')\n",
    "print(f'   Geschätzte Parameter: μ = {mu:.2f}, σ = {sigma:.2f}')\n",
    "print(f'   Shapiro-Wilk p-Wert: {shapiro_p:.3f}')\n",
    "if shapiro_p > 0.05:\n",
    "    print('   ✅ Normalverteilung wird nicht abgelehnt (p > 0.05)')\n",
    "else:\n",
    "    print('   ⚠️  Daten weichen von Normalverteilung ab (p ≤ 0.05)')"
   ]
  },
  {
   "cell_type": "markdown",
   "id": "8107b81a",
   "metadata": {},
   "source": [
    "**Wie interpretiert man das Ergebnis des Shapiro-Wilk-Tests?**\n",
    "\n",
    "Der Shapiro-Wilk-Test prüft, ob die Daten normalverteilt sind.\n",
    "- Die sogenannte *Nullhypothese* lautet: Die Daten sind normalverteilt.\n",
    "- Der Test berechnet eine **Teststatistik** und einen **p-Wert**.\n",
    "\n",
    "**Die Teststatistik (W-Wert):**\n",
    "- Liegt immer zwischen 0 und 1\n",
    "- Je näher der Wert bei 1, desto besser passen die Daten zu einer Normalverteilung\n",
    "- Ein niedriger Wert (z.B. 0.7) zeigt starke Abweichung von der Normalverteilung\n",
    "- Ein hoher Wert (z.B. 0.98) zeigt gute Übereinstimmung mit der Normalverteilung\n",
    "\n",
    "**Der p-Wert:**\n",
    "- Ist der p-Wert **größer als 0.05**, gibt es keinen Hinweis auf eine Abweichung von der Normalverteilung. Die Daten *könnten* also normalverteilt sein.\n",
    "- Ist der p-Wert **kleiner oder gleich 0.05**, spricht das gegen Normalverteilung. Die Daten sind dann mit hoher Wahrscheinlichkeit *nicht* normalverteilt.\n",
    "\n",
    "**Achtung:**\n",
    "Auch wenn der p-Wert groß ist, heißt das nicht, dass die Daten garantiert normalverteilt sind – nur, dass man es mit den vorliegenden Daten nicht widerlegen kann.\n",
    "\n",
    "**Tipp:**\n",
    "Schau dir immer auch das Histogramm an! Test und Grafik zusammen geben das beste Bild."
   ]
  },
  {
   "cell_type": "markdown",
   "id": "7b3ff2d3",
   "metadata": {},
   "source": [
    "## 3. Scatterplot mit linearem Fit\n",
    "\n",
    "Wir untersuchen den Zusammenhang zwischen **Körpergröße** und **Gewicht**."
   ]
  },
  {
   "cell_type": "code",
   "execution_count": null,
   "id": "c82a9f67",
   "metadata": {},
   "outputs": [],
   "source": [
    "var_x = 'Körpergröße [cm]'; var_y = 'Gewicht [kg]'\n",
    "x_data = df[var_x].values; y_data = df[var_y].values\n",
    "slope, intercept, r_value, p_value, std_err = stats.linregress(x_data, y_data)\n",
    "fig, ax = plt.subplots(1, 1, figsize=(10, 7))\n",
    "ax.scatter(x_data, y_data, s=100, alpha=0.7, color='blue', edgecolors='black', linewidth=1)\n",
    "x_fit = np.linspace(x_data.min() - 2, x_data.max() + 2, 100)\n",
    "y_fit = slope * x_fit + intercept\n",
    "ax.plot(x_fit, y_fit, 'r-', linewidth=2, label=f'y = {slope:.2f}x + {intercept:.1f}')\n",
    "ax.set_xlabel(var_x, fontsize=12)\n",
    "ax.set_ylabel(var_y, fontsize=12)\n",
    "ax.set_title(f'Scatterplot: {var_x} vs. {var_y}', fontsize=14, fontweight='bold')\n",
    "ax.legend()\n",
    "ax.grid(True, alpha=0.3)\n",
    "r_squared = r_value**2\n",
    "ax.text(0.02, 0.98, f'Lineare Regression:\\nSteigung = {slope:.2f}\\nR² = {r_squared:.3f}\\nKorrelation r = {r_value:.3f}\\np-Wert = {p_value:.3f}', transform=ax.transAxes, verticalalignment='top', bbox=dict(boxstyle=\"round,pad=0.3\", facecolor=\"lightgreen\", alpha=0.8))\n",
    "plt.tight_layout()\n",
    "plt.show()\n",
    "print(f'📈 Lineare Regression: {var_x} → {var_y}')\n",
    "print(f'   Steigung: {slope:.3f} {var_y.split(\"[\")[1][:-1]} pro {var_x.split(\"[\")[1][:-1]}')\n",
    "print(f'   Y-Achsenabschnitt: {intercept:.2f} {var_y.split(\"[\")[1][:-1]}')\n",
    "print(f'   Korrelationskoeffizient r: {r_value:.3f}')\n",
    "print(f'   Bestimmtheitsmaß R²: {r_squared:.3f} ({r_squared*100:.1f}% der Varianz erklärt)')\n",
    "signifikanz = 'signifikant' if p_value < 0.05 else 'nicht signifikant'\n",
    "print(f'   p-Wert: {p_value:.3f} ({signifikanz} bei α=0.05)')"
   ]
  },
  {
   "cell_type": "markdown",
   "id": "4002aef8",
   "metadata": {},
   "source": [
    "**Was bedeuten die Werte aus `stats.linregress`?**\n",
    "\n",
    "- **slope**: Die Steigung der Regressionsgeraden. Sie gibt an, um wie viel sich die Zielvariable (y) im Mittel ändert, wenn die erklärende Variable (x) um 1 steigt.\n",
    "- **intercept**: Der y-Achsenabschnitt der Regressionsgeraden.\n",
    "- **r_value**: Der Korrelationskoeffizient (r, Pearson). Er misst die Stärke und Richtung des linearen Zusammenhangs zwischen x und y. Werte nahe +1 oder -1 bedeuten einen starken Zusammenhang, Werte nahe 0 keinen Zusammenhang.\n",
    "- **p_value**: Der p-Wert zum Test, ob die Steigung (slope) signifikant von 0 verschieden ist.\n",
    "    - **Achtung:** Dieser p-Wert prüft NICHT auf Normalverteilung, sondern ob ein linearer Zusammenhang zwischen x und y statistisch nachweisbar ist.\n",
    "    - **α (Alpha)**: Das Signifikanzniveau ist ein fester Schwellenwert (meist 0.05 = 5%), den wir vorher festlegen. Der p-Wert wird mit diesem Alpha verglichen, um zu entscheiden, ob das Ergebnis statistisch signifikant ist.\n",
    "- **std_err**: Der Standardfehler der Steigung. Er gibt an, wie stark die geschätzte Steigung in verschiedenen Stichproben schwanken würde.\n",
    "\n",
    "**Zusammengefasst:**\n",
    "- Der p-Wert aus `linregress` ist ein Maß für die Signifikanz des linearen Zusammenhangs, nicht für Normalverteilung!\n",
    "- Der p-Wert aus dem Shapiro-Wilk-Test prüft auf Normalverteilung.\n",
    "- α (Alpha) ist das Signifikanzniveau - ein Schwellenwert, mit dem der p-Wert verglichen wird."
   ]
  },
  {
   "cell_type": "markdown",
   "id": "8cc86a41",
   "metadata": {},
   "source": [
    "**Was bedeutet der p-Wert genau?**\n",
    "\n",
    "Der p-Wert ist die Wahrscheinlichkeit, unter der Annahme, dass die Nullhypothese wahr ist, **mindestens so extreme Daten** zu beobachten wie die tatsächlich gemessenen.\n",
    "\n",
    "**Bei der linearen Regression:**\n",
    "- **Nullhypothese:** Es gibt keinen linearen Zusammenhang (Steigung = 0)\n",
    "- **p = 0.01 bedeutet:** Wenn es wirklich keinen linearen Zusammenhang gäbe, wäre die Wahrscheinlichkeit nur 1%, eine mindestens so große Steigung zu beobachten\n",
    "- **Interpretation:** Da 0.01 < 0.05 → statistisch signifikanter linearer Zusammenhang\n",
    "\n",
    "**Bei Shapiro-Wilk:**\n",
    "- **Nullhypothese:** Die Daten sind normalverteilt\n",
    "- **p = 0.01 bedeutet:** Wenn die Daten normalverteilt wären, wäre die Wahrscheinlichkeit nur 1%, eine mindestens so große Abweichung zu sehen\n",
    "- **Interpretation:** Da 0.01 < 0.05 → Daten sind nicht normalverteilt\n",
    "\n",
    "**Wichtig:** Der p-Wert ist NICHT die Wahrscheinlichkeit, dass die Nullhypothese wahr ist!\n",
    "\n",
    "**Warum sind die Nullhypothesen \"inkonsistent\"?**\n",
    "\n",
    "Die Nullhypothesen verschiedener Tests sind nicht einheitlich formuliert:\n",
    "\n",
    "**Shapiro-Wilk-Test:**\n",
    "- H₀: Die Daten **sind** normalverteilt\n",
    "- H₁: Die Daten sind **nicht** normalverteilt\n",
    "- → Kleiner p-Wert = **NICHT** normalverteilt\n",
    "\n",
    "**Lineare Regression:**\n",
    "- H₀: Es gibt **keinen** linearen Zusammenhang (Steigung = 0)\n",
    "- H₁: Es gibt **einen** linearen Zusammenhang (Steigung ≠ 0)\n",
    "- → Kleiner p-Wert = **GIBT** einen Zusammenhang\n",
    "\n",
    "**Grund:** Bei Shapiro-Wilk testet man auf eine spezifische Eigenschaft (Normalverteilung), bei der Regression traditionell auf \"Kein Effekt\". Deshalb ist es wichtig, immer genau zu verstehen, was die Nullhypothese eines Tests besagt!"
   ]
  },
  {
   "cell_type": "markdown",
   "id": "98bd78cd",
   "metadata": {},
   "source": [
    "## 4. Korrelationskoeffizient mit Python-Funktion\n",
    "\n",
    "Berechnung der Korrelation zwischen **Körpergröße** und **Schuhgröße** mit `numpy` und `scipy`."
   ]
  },
  {
   "cell_type": "code",
   "execution_count": null,
   "id": "ad318b25",
   "metadata": {},
   "outputs": [],
   "source": [
    "var1 = 'Körpergröße [cm]'; var2 = 'Schuhgröße [EU]'\n",
    "data1 = df[var1].values; data2 = df[var2].values\n",
    "numpy_corr = np.corrcoef(data1, data2)[0, 1]\n",
    "scipy_corr, scipy_p = stats.pearsonr(data1, data2)\n",
    "pandas_corr = df[[var1, var2]].corr().iloc[0, 1]\n",
    "spearman_corr, spearman_p = stats.spearmanr(data1, data2)\n",
    "print(f'📊 Korrelation zwischen {var1} und {var2}:')\n",
    "print(f'   NumPy corrcoef():     r = {numpy_corr:.4f}')\n",
    "print(f'   SciPy pearsonr():     r = {scipy_corr:.4f}, p = {scipy_p:.4f}')\n",
    "print(f'   Pandas corr():        r = {pandas_corr:.4f}')\n",
    "print(f'   Spearman-Korrelation: ρ = {spearman_corr:.4f}, p = {spearman_p:.4f}')"
   ]
  },
  {
   "cell_type": "markdown",
   "id": "3cec5049",
   "metadata": {},
   "source": [
    "## 5. Korrelationskoeffizient explizit berechnen\n",
    "\n",
    "Schritt-für-Schritt Berechnung nach der Definition: $r = \\frac{\\sum{(x_i - \\bar{x})(y_i - \\bar{y})}}{\\sqrt{\\sum{(x_i - \\bar{x})^2} \\sum{(y_i - \\bar{y})^2}}}$"
   ]
  },
  {
   "cell_type": "code",
   "execution_count": null,
   "id": "6e6f9afc",
   "metadata": {},
   "outputs": [],
   "source": [
    "x = data1; y = data2\n",
    "x_mean = np.mean(x); y_mean = np.mean(y)\n",
    "x_diff = x - x_mean; y_diff = y - y_mean\n",
    "xy_products = x_diff * y_diff; sum_xy_products = np.sum(xy_products)\n",
    "x_squared = x_diff**2; y_squared = y_diff**2\n",
    "sum_x_squared = np.sum(x_squared); sum_y_squared = np.sum(y_squared)\n",
    "denominator = np.sqrt(sum_x_squared * sum_y_squared)\n",
    "r_manual = sum_xy_products / denominator\n",
    "print(f'Formel: r = Σ(xi - x̄)(yi - ȳ) / √[Σ(xi - x̄)² × Σ(yi - ȳ)²]')\n",
    "print(f'Manual: r = {r_manual:.4f}')\n",
    "print(f'NumPy:  r = {numpy_corr:.4f}')"
   ]
  }
 ],
 "metadata": {
  "kernelspec": {
   "display_name": "lecture_env",
   "language": "python",
   "name": "python3"
  },
  "language_info": {
   "codemirror_mode": {
    "name": "ipython",
    "version": 3
   },
   "file_extension": ".py",
   "mimetype": "text/x-python",
   "name": "python",
   "nbconvert_exporter": "python",
   "pygments_lexer": "ipython3",
   "version": "3.11.13"
  }
 },
 "nbformat": 4,
 "nbformat_minor": 5
}

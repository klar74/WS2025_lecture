{
 "cells": [
  {
   "cell_type": "markdown",
   "id": "21972895",
   "metadata": {},
   "source": [
    "# EDA-Beispiele: Statistik und Visualisierung\n",
    "Dieses Notebook enthält verschiedene Beispiel-Diagramme für Statistik und Visualisierung in der EDA."
   ]
  },
  {
   "cell_type": "code",
   "execution_count": null,
   "id": "8141cf9f",
   "metadata": {},
   "outputs": [],
   "source": [
    "import numpy as np\n",
    "import pandas as pd\n",
    "import matplotlib.pyplot as plt\n",
    "import seaborn as sns\n",
    "sns.set(style='whitegrid')"
   ]
  },
  {
   "cell_type": "markdown",
   "id": "9a25aa6e",
   "metadata": {},
   "source": [
    "## Histogramm mit Mittelwert und Median (Gehälter)"
   ]
  },
  {
   "cell_type": "code",
   "execution_count": null,
   "id": "004bd8c8",
   "metadata": {},
   "outputs": [],
   "source": [
    "np.random.seed(1)\n",
    "salaries = np.random.normal(2500, 400, 100) # normalverteilte Gehälter\n",
    "salaries = np.append(salaries, np.random.normal(10000, 400, 5))  # \"Ausreißer\" hinzufügen\n",
    "plt.figure(figsize=(6,4))\n",
    "sns.histplot(salaries, bins=50, color='skyblue')\n",
    "plt.axvline(np.mean(salaries), color='red', linestyle='--', label='Mittelwert')\n",
    "plt.axvline(np.median(salaries), color='green', linestyle='-', label='Median')\n",
    "plt.legend()\n",
    "plt.title('Histogramm Gehälter mit Mittelwert und Median')\n",
    "plt.xlabel('Gehalt [EUR]')\n",
    "plt.tight_layout()\n",
    "# schreibe mean und median in die Grafik\n",
    "plt.text(4000, 15, f'Mittelwert: {np.mean(salaries):.2f}', color='red')\n",
    "plt.text(4000, 13, f'Median: {np.median(salaries):.2f}', color='green')\n",
    "plt.savefig('../figures/hist_salaries.png')\n",
    "plt.show()"
   ]
  },
  {
   "cell_type": "markdown",
   "id": "fbc9dee5",
   "metadata": {},
   "source": [
    "## Beispiel: Verteilung mit Interquartilsabstand (IQR) und Standardabweichung\n",
    "Das folgende Beispiel zeigt eine normalverteilte Variable mit eingezeichnetem Mittelwert, Standardabweichung und den Quartilen (Q1, Q3) zur Veranschaulichung des IQR.\n",
    "\n",
    "Im Diagramm sind der Mittelwert (rot), die Standardabweichung (orange) und die Quartile Q1/Q3 (grün) eingezeichnet. Der Interquartilsabstand (IQR) ist der Bereich zwischen Q1 und Q3 und zeigt, wo die mittleren 50% der Werte liegen. Die Standardabweichung misst die typische Streuung um den Mittelwert."
   ]
  },
  {
   "cell_type": "code",
   "execution_count": null,
   "id": "702632c4",
   "metadata": {},
   "outputs": [],
   "source": [
    "np.random.seed(10)\n",
    "data = np.random.normal(50, 10, 200)\n",
    "mean = np.mean(data)\n",
    "std = np.std(data)\n",
    "q1 = np.percentile(data, 25)\n",
    "q3 = np.percentile(data, 75)\n",
    "plt.figure(figsize=(6,4))\n",
    "sns.histplot(data, bins=20, color='lightblue')\n",
    "plt.axvline(mean, color='red', linestyle='--', label='Mittelwert')\n",
    "plt.axvline(mean+std, color='orange', linestyle=':', label='Mittelwert + 1 SD')\n",
    "plt.axvline(mean-std, color='orange', linestyle=':', label='Mittelwert - 1 SD')\n",
    "plt.axvline(q1, color='green', linestyle='-', label='Q1 (25%)')\n",
    "plt.axvline(q3, color='green', linestyle='-', label='Q3 (75%)')\n",
    "plt.legend()\n",
    "plt.title('Verteilung mit IQR und Standardabweichung')\n",
    "plt.xlabel('Wert')\n",
    "plt.tight_layout()\n",
    "plt.savefig('../figures/hist_iqr_std.png')\n",
    "plt.show()"
   ]
  },
  {
   "cell_type": "markdown",
   "id": "983b3cf3",
   "metadata": {},
   "source": [
    "## Die Standard-Normalverteilung\n",
    "Die Standard-Normalverteilung ist ein Spezialfall der Normalverteilung mit Mittelwert 0 und Standardabweichung 1. Sie ist die Basis für viele statistische Tests und Tabellen. Werte werden oft so transformiert (z-Transformation), um sie vergleichbar zu machen.\n",
    "\n",
    "Die Normalverteilung ist so wichtig, weil viele statistische Methoden und Tests auf ihr basieren. Sie beschreibt, wie sich Werte typischerweise um einen Mittelwert streuen. Die Standardabweichung gibt an, wie breit die Verteilung ist: Etwa 68% aller Werte liegen innerhalb einer Standardabweichung um den Mittelwert, ca. 95% innerhalb von zwei Standardabweichungen.\n",
    "\n",
    "Das folgende Diagramm zeigt die Standard-Normalverteilung mit Mittelwert 0 und den Bereichen für eine und zwei Standardabweichungen."
   ]
  },
  {
   "cell_type": "code",
   "execution_count": null,
   "id": "676291f0",
   "metadata": {},
   "outputs": [],
   "source": [
    "from scipy.stats import norm\n",
    "x = np.linspace(-4, 4, 500)\n",
    "mu, sigma = 0, 1\n",
    "y = norm.pdf(x, mu, sigma)\n",
    "plt.figure(figsize=(7,4))\n",
    "plt.plot(x, y, color='navy', label='Standard-Normalverteilung')\n",
    "plt.axvline(mu, color='red', linestyle='--', label='Mittelwert (0)')\n",
    "plt.fill_between(x, y, where=(x > mu-sigma) & (x < mu+sigma), color='orange', alpha=0.3, label='±1 SD')\n",
    "plt.fill_between(x, y, where=(x > mu-2*sigma) & (x < mu+2*sigma), color='yellow', alpha=0.2, label='±2 SD')\n",
    "plt.title('Standard-Normalverteilung mit Mittelwert und Standardabweichung')\n",
    "plt.xlabel('Wert')\n",
    "plt.ylabel('Dichte')\n",
    "plt.legend()\n",
    "plt.tight_layout()\n",
    "plt.savefig('../figures/standard_normalverteilung.png')\n",
    "plt.show()"
   ]
  },
  {
   "cell_type": "markdown",
   "id": "765f8d44",
   "metadata": {},
   "source": [
    "Im Diagramm sieht man die typische Glockenkurve der Standard-Normalverteilung. Der Mittelwert (rot) liegt bei 0. Der orange Bereich zeigt die Werte innerhalb einer Standardabweichung (ca. 68% aller Werte), der gelbe Bereich umfasst zwei Standardabweichungen (ca. 95%).\n",
    "Die Standard-Normalverteilung ist ein Grundpfeiler der Statistik, weil sie viele reale Prozesse gut beschreibt und die Basis für viele statistische Tests und Methoden bildet. Viele Tabellen und Wahrscheinlichkeiten in der Statistik beziehen sich auf diese Verteilung."
   ]
  },
  {
   "cell_type": "markdown",
   "id": "ccf68782",
   "metadata": {},
   "source": [
    "## Beispiele für verschiedene Verteilungsformen\n",
    "Im Folgenden werden typische Verteilungsformen gezeigt, die in der Praxis häufig auftreten: rechtsschief, linksschief und mehrgipflig."
   ]
  },
  {
   "cell_type": "code",
   "execution_count": null,
   "id": "3f8dd105",
   "metadata": {},
   "outputs": [],
   "source": [
    "# Rechtsschiefe Verteilung (Exponentialverteilung)\n",
    "right_skew = np.random.exponential(2, 200)\n",
    "plt.figure(figsize=(6,4))\n",
    "sns.histplot(right_skew, bins=20, color='orange', label='rechtsschief', alpha=0.7)\n",
    "plt.title('Rechtsschiefe Verteilung')\n",
    "plt.xlabel('Wert')\n",
    "plt.legend()\n",
    "plt.tight_layout()\n",
    "plt.savefig('../figures/hist_rechtschief.png')\n",
    "plt.show()\n",
    "\n",
    "# Linksschiefe Verteilung (negierte Exponentialverteilung)\n",
    "left_skew = -np.random.exponential(2, 200) + 10\n",
    "plt.figure(figsize=(6,4))\n",
    "sns.histplot(left_skew, bins=20, color='blue', label='linksschief', alpha=0.7)\n",
    "plt.title('Linksschiefe Verteilung')\n",
    "plt.xlabel('Wert')\n",
    "plt.legend()\n",
    "plt.tight_layout()\n",
    "plt.savefig('../figures/hist_linksschief.png')\n",
    "plt.show()\n",
    "\n",
    "# Mehrgipflige Verteilung (Mischung mehrerer Normalverteilungen)\n",
    "multi_peak = np.concatenate([np.random.normal(10, 2, 100), np.random.normal(20, 2, 100), np.random.normal(30, 2, 100)])\n",
    "plt.figure(figsize=(6,4))\n",
    "sns.histplot(multi_peak, bins=30, color='teal')\n",
    "plt.title('Mehrgipflige Verteilung')\n",
    "plt.xlabel('Wert')\n",
    "plt.tight_layout()\n",
    "plt.savefig('../figures/hist_mehrgipflig.png')\n",
    "plt.show()"
   ]
  },
  {
   "cell_type": "markdown",
   "id": "0a7a3dbd",
   "metadata": {},
   "source": [
    "Die Diagramme zeigen typische Verteilungsformen:\n",
    "- **Rechtsschief**: Viele kleine Werte, wenige große Werte (z.B. Einkommen, Wartezeiten).\n",
    "- **Linksschief**: Viele große Werte, wenige kleine Werte (z.B. Restlaufzeiten, Klausurpunkte).\n",
    "- **Mehrgipflig**: Mischung verschiedener Gruppen oder Prozesse, z.B. Produktionslinien mit unterschiedlichen Mittelwerten.\n",
    "Solche Verteilungen sind in der Praxis wichtig, weil sie die Wahl der Kennzahlen und statistischen Methoden beeinflussen."
   ]
  },
  {
   "cell_type": "markdown",
   "id": "ae4ed001",
   "metadata": {},
   "source": [
    "## Boxplot mit Ausreißern (Lieferantenqualität)\n",
    "Der Boxplot zeigt die Verteilung, den Median, die Quartile und mögliche Ausreißer einer numerischen Variable für verschiedene Gruppen. Ausreißer werden als einzelne Punkte außerhalb der \"Whisker\" dargestellt.\n",
    "\n",
    "Im Beispiel sieht man, wie sich die Qualitätswerte zwischen Lieferanten unterscheiden und ob es Ausreißer gibt. Boxplots sind besonders hilfreich, um Gruppen zu vergleichen und ungewöhnliche Werte schnell zu erkennen."
   ]
  },
  {
   "cell_type": "code",
   "execution_count": null,
   "id": "f6c0198e",
   "metadata": {},
   "outputs": [],
   "source": [
    "quality = np.concatenate([np.random.normal(80, 5, 50), np.random.normal(70, 7, 50), [50, 120]])\n",
    "supplier = ['A']*50 + ['B']*50 + ['A','B']\n",
    "dfq = pd.DataFrame({'Qualität': quality, 'Lieferant': supplier})\n",
    "plt.figure(figsize=(6,4))\n",
    "sns.boxplot(x='Lieferant', y='Qualität', data=dfq, palette='Set1')\n",
    "plt.title('Boxplot Lieferantenqualität mit Ausreißern')\n",
    "plt.tight_layout()\n",
    "plt.savefig('../figures/boxplot_quality_supplier.png')\n",
    "plt.show()"
   ]
  },
  {
   "cell_type": "markdown",
   "id": "3a28bfcc",
   "metadata": {},
   "source": [
    "## Scatterplot mit Trendlinie (Lieferdauer vs. Pünktlichkeit)"
   ]
  },
  {
   "cell_type": "code",
   "execution_count": null,
   "id": "ca5bc24a",
   "metadata": {},
   "outputs": [],
   "source": [
    "np.random.seed(2)\n",
    "delivery = np.random.normal(5, 1, 100)\n",
    "punctuality = 100 - delivery*10 + np.random.normal(0, 5, 100)\n",
    "plt.figure(figsize=(6,4))\n",
    "sns.regplot(x=delivery, y=punctuality, scatter_kws={'alpha':0.7})\n",
    "plt.title('Scatterplot Lieferdauer vs. Pünktlichkeit mit Trendlinie')\n",
    "plt.xlabel('Lieferdauer [Tage]')\n",
    "plt.ylabel('Pünktlichkeit [%]')\n",
    "plt.tight_layout()\n",
    "plt.savefig('../figures/scatter_delivery_punctuality.png')\n",
    "plt.show()"
   ]
  },
  {
   "cell_type": "markdown",
   "id": "9b6c4f30",
   "metadata": {},
   "source": [
    "## Dichtekurve (Kernel Density Estimate) für eine numerische Variable"
   ]
  },
  {
   "cell_type": "code",
   "execution_count": null,
   "id": "ec1dff79",
   "metadata": {},
   "outputs": [],
   "source": [
    "import matplotlib.pyplot as plt\n",
    "import seaborn as sns\n",
    "\n",
    "# Dichtekurve für Gehälter\n",
    "plt.figure(figsize=(6,4))\n",
    "sns.kdeplot(salaries, fill=True, color='purple')\n",
    "plt.title('Dichtekurve Gehälter')\n",
    "plt.xlabel('Gehalt [EUR]')\n",
    "plt.tight_layout()\n",
    "plt.savefig('../figures/kde_salaries.png')\n",
    "plt.show()"
   ]
  },
  {
   "cell_type": "markdown",
   "id": "121293ea",
   "metadata": {},
   "source": [
    "## Violinplot: Verteilung und Dichte je Gruppe\n",
    "Der Violinplot kombiniert die Vorteile von Boxplot und Dichteplot: Er zeigt die Verteilung, Dichte und typische Kennzahlen (Median, Quartile) einer numerischen Variable für verschiedene Gruppen.\n",
    "\n",
    "Im Gegensatz zum Boxplot sieht man beim Violinplot nicht nur die Lage und Streuung, sondern auch die Form der Verteilung – z. B. ob sie symmetrisch, schief oder mehrgipflig ist. Die Breite der \"Violine\" zeigt, wie häufig Werte in einem Bereich vorkommen.\n",
    "\n",
    "Violinplots sind besonders hilfreich, um Unterschiede zwischen Gruppen zu erkennen, die im Boxplot verborgen bleiben könnten."
   ]
  },
  {
   "cell_type": "code",
   "execution_count": null,
   "id": "1c43e3d5",
   "metadata": {},
   "outputs": [],
   "source": [
    "import matplotlib.pyplot as plt\n",
    "import seaborn as sns\n",
    "\n",
    "# Violinplot: Qualitätsverteilung je Lieferant\n",
    "plt.figure(figsize=(6,4))\n",
    "sns.violinplot(x='Lieferant', y='Qualität', data=dfq, palette='Set2')\n",
    "plt.title('Violinplot: Qualität je Lieferant')\n",
    "plt.xlabel('Lieferant')\n",
    "plt.ylabel('Qualität')\n",
    "plt.tight_layout()\n",
    "plt.savefig('../figures/violinplot_quality_supplier.png')\n",
    "plt.show()"
   ]
  },
  {
   "cell_type": "markdown",
   "id": "aaeafbe6",
   "metadata": {},
   "source": [
    "## Korrelationsmatrix (Heatmap)\n",
    "Die Korrelationsmatrix zeigt, wie stark numerische Variablen miteinander zusammenhängen. Werte nahe +1 bedeuten einen starken positiven Zusammenhang, Werte nahe -1 einen starken negativen Zusammenhang. Die Heatmap visualisiert diese Zusammenhänge farblich und hilft, Muster und Beziehungen zwischen Variablen schnell zu erkennen."
   ]
  },
  {
   "cell_type": "code",
   "execution_count": null,
   "id": "b36fcd8b",
   "metadata": {},
   "outputs": [],
   "source": [
    "data = np.random.normal(size=(100,4))\n",
    "df_corr = pd.DataFrame(data, columns=['A','B','C','D'])\n",
    "plt.figure(figsize=(5,4))\n",
    "sns.heatmap(df_corr.corr(), annot=True, cmap='coolwarm', fmt='.2f')\n",
    "plt.title('Korrelationsmatrix (Heatmap)')\n",
    "plt.tight_layout()\n",
    "plt.savefig('../figures/heatmap_corr.png')\n",
    "plt.show()"
   ]
  },
  {
   "cell_type": "markdown",
   "id": "d26c565d",
   "metadata": {},
   "source": [
    "## Overplotting und Dichteplot\n",
    "Wenn sehr viele Datenpunkte in einem Scatterplot dargestellt werden, können sich die Punkte stark überlagern (Overplotting). Dadurch werden Muster und Strukturen schwer erkennbar. Eine Lösung ist der Dichteplot (2D-KDE), der die Verteilung der Daten als Farbflächen zeigt und so auch bei großen Datenmengen die Strukturen sichtbar macht. Dichteplots sind besonders hilfreich, um Cluster, Häufungen oder Ausreißer in großen Datensätzen zu erkennen."
   ]
  },
  {
   "cell_type": "code",
   "execution_count": null,
   "id": "5bf2765b",
   "metadata": {},
   "outputs": [],
   "source": [
    "x = np.random.normal(0, 1, 1000)\n",
    "y = np.random.normal(0, 1, 1000)\n",
    "plt.figure(figsize=(6,4))\n",
    "plt.scatter(x, y, alpha=0.2)\n",
    "plt.title('Overplotting Beispiel')\n",
    "plt.tight_layout()\n",
    "plt.savefig('../figures/overplotting.png')\n",
    "plt.show()\n",
    "plt.figure(figsize=(6,4))\n",
    "sns.kdeplot(x=x, y=y, fill=True, cmap='Blues')\n",
    "plt.title('Dichteplot als Lösung für Overplotting')\n",
    "plt.tight_layout()\n",
    "plt.savefig('../figures/densityplot.png')\n",
    "plt.show()"
   ]
  },
  {
   "cell_type": "markdown",
   "id": "9dae0202",
   "metadata": {},
   "source": [
    "## Zeitreihe mit gleitendem Mittelwert (Energieverbrauch)\n",
    "Zeitreihen zeigen, wie sich Messwerte über die Zeit verändern. Oft sind die Daten verrauscht oder schwanken stark. Ein gleitender Mittelwert (Moving Average) glättet die Zeitreihe, indem er jeweils den Durchschnitt über ein Zeitfenster berechnet. So werden Trends und Muster besser sichtbar, kurzfristige Schwankungen treten in den Hintergrund. Das ist besonders nützlich, um saisonale Effekte, Trends oder Ausreißer im zeitlichen Verlauf zu erkennen."
   ]
  },
  {
   "cell_type": "code",
   "execution_count": null,
   "id": "389c8018",
   "metadata": {},
   "outputs": [],
   "source": [
    "np.random.seed(3)\n",
    "energy = np.random.normal(100, 10, 200)\n",
    "ts = pd.Series(energy)\n",
    "rolling = ts.rolling(window=10).mean()\n",
    "plt.figure(figsize=(8,3))\n",
    "plt.plot(ts, color='gray', alpha=0.5, label='Energieverbrauch')\n",
    "plt.plot(rolling, color='red', label='Gleitender Mittelwert')\n",
    "plt.title('Zeitreihe Energieverbrauch mit gleitendem Mittelwert')\n",
    "plt.xlabel('Zeit')\n",
    "plt.ylabel('Energieverbrauch [kWh]')\n",
    "plt.legend()\n",
    "plt.tight_layout()\n",
    "plt.savefig('../figures/timeseries_rolling.png')\n",
    "plt.show()"
   ]
  },
  {
   "cell_type": "markdown",
   "id": "7b661618",
   "metadata": {},
   "source": [
    "## Zusammenhang zwischen Variablen: Kovarianz und Korrelation\n",
    "Im Folgenden werden die wichtigsten Maße zur Beschreibung von Zusammenhängen zwischen zwei numerischen Variablen anschaulich dargestellt: Kovarianz, Pearson-Korrelation und Spearman-Korrelation."
   ]
  },
  {
   "cell_type": "code",
   "execution_count": null,
   "id": "84afd551",
   "metadata": {},
   "outputs": [],
   "source": [
    "# Beispiel: Zusammenhang zwischen Größe und Gewicht (synthetisch)\n",
    "np.random.seed(42)\n",
    "groesse = np.random.normal(170, 10, 100)\n",
    "gewicht = groesse * 0.5 + np.random.normal(0, 5, 100)\n",
    "plt.figure(figsize=(6,4))\n",
    "sns.scatterplot(x=groesse, y=gewicht)\n",
    "plt.title('Scatterplot: Größe vs. Gewicht')\n",
    "plt.xlabel('Größe [cm]')\n",
    "plt.ylabel('Gewicht [kg]')\n",
    "plt.tight_layout()\n",
    "plt.savefig('../figures/scatter_groesse_gewicht.png')\n",
    "plt.show()\n",
    "\n",
    "# Kovarianz und Pearson-Korrelation berechnen\n",
    "cov = np.cov(groesse, gewicht)[0,1]\n",
    "pearson = np.corrcoef(groesse, gewicht)[0,1]\n",
    "print(f'Kovarianz: {cov:.2f}')\n",
    "print(f'Pearson-Korrelation: {pearson:.2f}')\n",
    "\n",
    "# Spearman-Korrelation berechnen\n",
    "from scipy.stats import spearmanr\n",
    "spearman = spearmanr(groesse, gewicht).correlation\n",
    "print(f'Spearman-Korrelation: {spearman:.2f}')"
   ]
  },
  {
   "cell_type": "markdown",
   "id": "aa7705c6",
   "metadata": {},
   "source": [
    "Im Scatterplot sieht man, dass größere Personen tendenziell auch schwerer sind – die Punkte steigen gemeinsam an. Die Kovarianz ist positiv, die Pearson-Korrelation zeigt einen starken linearen Zusammenhang. Die Spearman-Korrelation bestätigt, dass auch die Rangfolge der Werte ähnlich ist. So lassen sich Zusammenhänge zwischen Variablen anschaulich und quantitativ beschreiben."
   ]
  }
 ],
 "metadata": {
  "kernelspec": {
   "display_name": "lecture_env",
   "language": "python",
   "name": "python3"
  },
  "language_info": {
   "codemirror_mode": {
    "name": "ipython",
    "version": 3
   },
   "file_extension": ".py",
   "mimetype": "text/x-python",
   "name": "python",
   "nbconvert_exporter": "python",
   "pygments_lexer": "ipython3",
   "version": "3.11.13"
  }
 },
 "nbformat": 4,
 "nbformat_minor": 5
}
